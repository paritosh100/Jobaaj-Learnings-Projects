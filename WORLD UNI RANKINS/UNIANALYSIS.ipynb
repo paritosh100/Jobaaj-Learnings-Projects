{
 "cells": [
  {
   "cell_type": "code",
   "execution_count": 20,
   "id": "020ea777",
   "metadata": {
    "ExecuteTime": {
     "end_time": "2023-09-16T17:52:04.810634Z",
     "start_time": "2023-09-16T17:52:04.800639Z"
    }
   },
   "outputs": [],
   "source": [
    "import pandas as pd\n",
    "import numpy as np\n",
    "import matplotlib.pyplot as plt\n",
    "import seaborn as sns\n",
    "import plotly.express as px\n",
    "import plotly.graph_objects as go\n",
    "sns.set_style('darkgrid')\n",
    "plt.rcParams['font.size'] = 14\n",
    "plt.rcParams['figure.figsize'] = (9, 5)\n",
    "plt.rcParams['figure.facecolor'] = '#00000000'"
   ]
  },
  {
   "cell_type": "markdown",
   "id": "74392e1f",
   "metadata": {},
   "source": [
    "# Step 1: Select a real-world dataset\n"
   ]
  },
  {
   "cell_type": "code",
   "execution_count": 21,
   "id": "72140397",
   "metadata": {
    "ExecuteTime": {
     "end_time": "2023-09-16T17:52:06.189105Z",
     "start_time": "2023-09-16T17:52:06.171140Z"
    }
   },
   "outputs": [
    {
     "data": {
      "text/html": [
       "<div>\n",
       "<style scoped>\n",
       "    .dataframe tbody tr th:only-of-type {\n",
       "        vertical-align: middle;\n",
       "    }\n",
       "\n",
       "    .dataframe tbody tr th {\n",
       "        vertical-align: top;\n",
       "    }\n",
       "\n",
       "    .dataframe thead th {\n",
       "        text-align: right;\n",
       "    }\n",
       "</style>\n",
       "<table border=\"1\" class=\"dataframe\">\n",
       "  <thead>\n",
       "    <tr style=\"text-align: right;\">\n",
       "      <th></th>\n",
       "      <th>world_rank</th>\n",
       "      <th>institution</th>\n",
       "      <th>country</th>\n",
       "      <th>national_rank</th>\n",
       "      <th>quality_of_education</th>\n",
       "      <th>alumni_employment</th>\n",
       "      <th>quality_of_faculty</th>\n",
       "      <th>publications</th>\n",
       "      <th>influence</th>\n",
       "      <th>citations</th>\n",
       "      <th>broad_impact</th>\n",
       "      <th>patents</th>\n",
       "      <th>score</th>\n",
       "      <th>year</th>\n",
       "    </tr>\n",
       "  </thead>\n",
       "  <tbody>\n",
       "    <tr>\n",
       "      <th>0</th>\n",
       "      <td>1</td>\n",
       "      <td>Harvard University</td>\n",
       "      <td>USA</td>\n",
       "      <td>1</td>\n",
       "      <td>7</td>\n",
       "      <td>9</td>\n",
       "      <td>1</td>\n",
       "      <td>1</td>\n",
       "      <td>1</td>\n",
       "      <td>1</td>\n",
       "      <td>NaN</td>\n",
       "      <td>5</td>\n",
       "      <td>100.00</td>\n",
       "      <td>2012</td>\n",
       "    </tr>\n",
       "    <tr>\n",
       "      <th>1</th>\n",
       "      <td>2</td>\n",
       "      <td>Massachusetts Institute of Technology</td>\n",
       "      <td>USA</td>\n",
       "      <td>2</td>\n",
       "      <td>9</td>\n",
       "      <td>17</td>\n",
       "      <td>3</td>\n",
       "      <td>12</td>\n",
       "      <td>4</td>\n",
       "      <td>4</td>\n",
       "      <td>NaN</td>\n",
       "      <td>1</td>\n",
       "      <td>91.67</td>\n",
       "      <td>2012</td>\n",
       "    </tr>\n",
       "    <tr>\n",
       "      <th>2</th>\n",
       "      <td>3</td>\n",
       "      <td>Stanford University</td>\n",
       "      <td>USA</td>\n",
       "      <td>3</td>\n",
       "      <td>17</td>\n",
       "      <td>11</td>\n",
       "      <td>5</td>\n",
       "      <td>4</td>\n",
       "      <td>2</td>\n",
       "      <td>2</td>\n",
       "      <td>NaN</td>\n",
       "      <td>15</td>\n",
       "      <td>89.50</td>\n",
       "      <td>2012</td>\n",
       "    </tr>\n",
       "    <tr>\n",
       "      <th>3</th>\n",
       "      <td>4</td>\n",
       "      <td>University of Cambridge</td>\n",
       "      <td>United Kingdom</td>\n",
       "      <td>1</td>\n",
       "      <td>10</td>\n",
       "      <td>24</td>\n",
       "      <td>4</td>\n",
       "      <td>16</td>\n",
       "      <td>16</td>\n",
       "      <td>11</td>\n",
       "      <td>NaN</td>\n",
       "      <td>50</td>\n",
       "      <td>86.17</td>\n",
       "      <td>2012</td>\n",
       "    </tr>\n",
       "    <tr>\n",
       "      <th>4</th>\n",
       "      <td>5</td>\n",
       "      <td>California Institute of Technology</td>\n",
       "      <td>USA</td>\n",
       "      <td>4</td>\n",
       "      <td>2</td>\n",
       "      <td>29</td>\n",
       "      <td>7</td>\n",
       "      <td>37</td>\n",
       "      <td>22</td>\n",
       "      <td>22</td>\n",
       "      <td>NaN</td>\n",
       "      <td>18</td>\n",
       "      <td>85.21</td>\n",
       "      <td>2012</td>\n",
       "    </tr>\n",
       "  </tbody>\n",
       "</table>\n",
       "</div>"
      ],
      "text/plain": [
       "   world_rank                            institution         country  \\\n",
       "0           1                     Harvard University             USA   \n",
       "1           2  Massachusetts Institute of Technology             USA   \n",
       "2           3                    Stanford University             USA   \n",
       "3           4                University of Cambridge  United Kingdom   \n",
       "4           5     California Institute of Technology             USA   \n",
       "\n",
       "   national_rank  quality_of_education  alumni_employment  quality_of_faculty  \\\n",
       "0              1                     7                  9                   1   \n",
       "1              2                     9                 17                   3   \n",
       "2              3                    17                 11                   5   \n",
       "3              1                    10                 24                   4   \n",
       "4              4                     2                 29                   7   \n",
       "\n",
       "   publications  influence  citations  broad_impact  patents   score  year  \n",
       "0             1          1          1           NaN        5  100.00  2012  \n",
       "1            12          4          4           NaN        1   91.67  2012  \n",
       "2             4          2          2           NaN       15   89.50  2012  \n",
       "3            16         16         11           NaN       50   86.17  2012  \n",
       "4            37         22         22           NaN       18   85.21  2012  "
      ]
     },
     "execution_count": 21,
     "metadata": {},
     "output_type": "execute_result"
    }
   ],
   "source": [
    "#lets first see what type of data do we have here\n",
    "df = pd.read_csv('cwurData.csv')\n",
    "df.head()"
   ]
  },
  {
   "cell_type": "code",
   "execution_count": 22,
   "id": "9fa637ad",
   "metadata": {
    "ExecuteTime": {
     "end_time": "2023-09-16T17:52:06.817222Z",
     "start_time": "2023-09-16T17:52:06.788230Z"
    }
   },
   "outputs": [
    {
     "data": {
      "text/html": [
       "<div>\n",
       "<style scoped>\n",
       "    .dataframe tbody tr th:only-of-type {\n",
       "        vertical-align: middle;\n",
       "    }\n",
       "\n",
       "    .dataframe tbody tr th {\n",
       "        vertical-align: top;\n",
       "    }\n",
       "\n",
       "    .dataframe thead th {\n",
       "        text-align: right;\n",
       "    }\n",
       "</style>\n",
       "<table border=\"1\" class=\"dataframe\">\n",
       "  <thead>\n",
       "    <tr style=\"text-align: right;\">\n",
       "      <th></th>\n",
       "      <th>world_rank</th>\n",
       "      <th>university_name</th>\n",
       "      <th>country</th>\n",
       "      <th>teaching</th>\n",
       "      <th>international</th>\n",
       "      <th>research</th>\n",
       "      <th>citations</th>\n",
       "      <th>income</th>\n",
       "      <th>total_score</th>\n",
       "      <th>num_students</th>\n",
       "      <th>student_staff_ratio</th>\n",
       "      <th>international_students</th>\n",
       "      <th>female_male_ratio</th>\n",
       "      <th>year</th>\n",
       "    </tr>\n",
       "  </thead>\n",
       "  <tbody>\n",
       "    <tr>\n",
       "      <th>0</th>\n",
       "      <td>1</td>\n",
       "      <td>Harvard University</td>\n",
       "      <td>United States of America</td>\n",
       "      <td>99.7</td>\n",
       "      <td>72.4</td>\n",
       "      <td>98.7</td>\n",
       "      <td>98.8</td>\n",
       "      <td>34.5</td>\n",
       "      <td>96.1</td>\n",
       "      <td>20,152</td>\n",
       "      <td>8.9</td>\n",
       "      <td>25%</td>\n",
       "      <td>NaN</td>\n",
       "      <td>2011</td>\n",
       "    </tr>\n",
       "    <tr>\n",
       "      <th>1</th>\n",
       "      <td>2</td>\n",
       "      <td>California Institute of Technology</td>\n",
       "      <td>United States of America</td>\n",
       "      <td>97.7</td>\n",
       "      <td>54.6</td>\n",
       "      <td>98.0</td>\n",
       "      <td>99.9</td>\n",
       "      <td>83.7</td>\n",
       "      <td>96.0</td>\n",
       "      <td>2,243</td>\n",
       "      <td>6.9</td>\n",
       "      <td>27%</td>\n",
       "      <td>33 : 67</td>\n",
       "      <td>2011</td>\n",
       "    </tr>\n",
       "    <tr>\n",
       "      <th>2</th>\n",
       "      <td>3</td>\n",
       "      <td>Massachusetts Institute of Technology</td>\n",
       "      <td>United States of America</td>\n",
       "      <td>97.8</td>\n",
       "      <td>82.3</td>\n",
       "      <td>91.4</td>\n",
       "      <td>99.9</td>\n",
       "      <td>87.5</td>\n",
       "      <td>95.6</td>\n",
       "      <td>11,074</td>\n",
       "      <td>9.0</td>\n",
       "      <td>33%</td>\n",
       "      <td>37 : 63</td>\n",
       "      <td>2011</td>\n",
       "    </tr>\n",
       "    <tr>\n",
       "      <th>3</th>\n",
       "      <td>4</td>\n",
       "      <td>Stanford University</td>\n",
       "      <td>United States of America</td>\n",
       "      <td>98.3</td>\n",
       "      <td>29.5</td>\n",
       "      <td>98.1</td>\n",
       "      <td>99.2</td>\n",
       "      <td>64.3</td>\n",
       "      <td>94.3</td>\n",
       "      <td>15,596</td>\n",
       "      <td>7.8</td>\n",
       "      <td>22%</td>\n",
       "      <td>42 : 58</td>\n",
       "      <td>2011</td>\n",
       "    </tr>\n",
       "    <tr>\n",
       "      <th>4</th>\n",
       "      <td>5</td>\n",
       "      <td>Princeton University</td>\n",
       "      <td>United States of America</td>\n",
       "      <td>90.9</td>\n",
       "      <td>70.3</td>\n",
       "      <td>95.4</td>\n",
       "      <td>99.9</td>\n",
       "      <td>-</td>\n",
       "      <td>94.2</td>\n",
       "      <td>7,929</td>\n",
       "      <td>8.4</td>\n",
       "      <td>27%</td>\n",
       "      <td>45 : 55</td>\n",
       "      <td>2011</td>\n",
       "    </tr>\n",
       "    <tr>\n",
       "      <th>5</th>\n",
       "      <td>6</td>\n",
       "      <td>University of Cambridge</td>\n",
       "      <td>United Kingdom</td>\n",
       "      <td>90.5</td>\n",
       "      <td>77.7</td>\n",
       "      <td>94.1</td>\n",
       "      <td>94.0</td>\n",
       "      <td>57.0</td>\n",
       "      <td>91.2</td>\n",
       "      <td>18,812</td>\n",
       "      <td>11.8</td>\n",
       "      <td>34%</td>\n",
       "      <td>46 : 54</td>\n",
       "      <td>2011</td>\n",
       "    </tr>\n",
       "    <tr>\n",
       "      <th>6</th>\n",
       "      <td>6</td>\n",
       "      <td>University of Oxford</td>\n",
       "      <td>United Kingdom</td>\n",
       "      <td>88.2</td>\n",
       "      <td>77.2</td>\n",
       "      <td>93.9</td>\n",
       "      <td>95.1</td>\n",
       "      <td>73.5</td>\n",
       "      <td>91.2</td>\n",
       "      <td>19,919</td>\n",
       "      <td>11.6</td>\n",
       "      <td>34%</td>\n",
       "      <td>46 : 54</td>\n",
       "      <td>2011</td>\n",
       "    </tr>\n",
       "    <tr>\n",
       "      <th>7</th>\n",
       "      <td>8</td>\n",
       "      <td>University of California, Berkeley</td>\n",
       "      <td>United States of America</td>\n",
       "      <td>84.2</td>\n",
       "      <td>39.6</td>\n",
       "      <td>99.3</td>\n",
       "      <td>97.8</td>\n",
       "      <td>-</td>\n",
       "      <td>91.1</td>\n",
       "      <td>36,186</td>\n",
       "      <td>16.4</td>\n",
       "      <td>15%</td>\n",
       "      <td>50 : 50</td>\n",
       "      <td>2011</td>\n",
       "    </tr>\n",
       "    <tr>\n",
       "      <th>8</th>\n",
       "      <td>9</td>\n",
       "      <td>Imperial College London</td>\n",
       "      <td>United Kingdom</td>\n",
       "      <td>89.2</td>\n",
       "      <td>90.0</td>\n",
       "      <td>94.5</td>\n",
       "      <td>88.3</td>\n",
       "      <td>92.9</td>\n",
       "      <td>90.6</td>\n",
       "      <td>15,060</td>\n",
       "      <td>11.7</td>\n",
       "      <td>51%</td>\n",
       "      <td>37 : 63</td>\n",
       "      <td>2011</td>\n",
       "    </tr>\n",
       "    <tr>\n",
       "      <th>9</th>\n",
       "      <td>10</td>\n",
       "      <td>Yale University</td>\n",
       "      <td>United States of America</td>\n",
       "      <td>92.1</td>\n",
       "      <td>59.2</td>\n",
       "      <td>89.7</td>\n",
       "      <td>91.5</td>\n",
       "      <td>-</td>\n",
       "      <td>89.5</td>\n",
       "      <td>11,751</td>\n",
       "      <td>4.4</td>\n",
       "      <td>20%</td>\n",
       "      <td>50 : 50</td>\n",
       "      <td>2011</td>\n",
       "    </tr>\n",
       "  </tbody>\n",
       "</table>\n",
       "</div>"
      ],
      "text/plain": [
       "  world_rank                        university_name                   country  \\\n",
       "0          1                     Harvard University  United States of America   \n",
       "1          2     California Institute of Technology  United States of America   \n",
       "2          3  Massachusetts Institute of Technology  United States of America   \n",
       "3          4                    Stanford University  United States of America   \n",
       "4          5                   Princeton University  United States of America   \n",
       "5          6                University of Cambridge            United Kingdom   \n",
       "6          6                   University of Oxford            United Kingdom   \n",
       "7          8     University of California, Berkeley  United States of America   \n",
       "8          9                Imperial College London            United Kingdom   \n",
       "9         10                        Yale University  United States of America   \n",
       "\n",
       "   teaching international  research  citations income total_score  \\\n",
       "0      99.7          72.4      98.7       98.8   34.5        96.1   \n",
       "1      97.7          54.6      98.0       99.9   83.7        96.0   \n",
       "2      97.8          82.3      91.4       99.9   87.5        95.6   \n",
       "3      98.3          29.5      98.1       99.2   64.3        94.3   \n",
       "4      90.9          70.3      95.4       99.9      -        94.2   \n",
       "5      90.5          77.7      94.1       94.0   57.0        91.2   \n",
       "6      88.2          77.2      93.9       95.1   73.5        91.2   \n",
       "7      84.2          39.6      99.3       97.8      -        91.1   \n",
       "8      89.2          90.0      94.5       88.3   92.9        90.6   \n",
       "9      92.1          59.2      89.7       91.5      -        89.5   \n",
       "\n",
       "  num_students  student_staff_ratio international_students female_male_ratio  \\\n",
       "0       20,152                  8.9                    25%               NaN   \n",
       "1        2,243                  6.9                    27%           33 : 67   \n",
       "2       11,074                  9.0                    33%           37 : 63   \n",
       "3       15,596                  7.8                    22%           42 : 58   \n",
       "4        7,929                  8.4                    27%           45 : 55   \n",
       "5       18,812                 11.8                    34%           46 : 54   \n",
       "6       19,919                 11.6                    34%           46 : 54   \n",
       "7       36,186                 16.4                    15%           50 : 50   \n",
       "8       15,060                 11.7                    51%           37 : 63   \n",
       "9       11,751                  4.4                    20%           50 : 50   \n",
       "\n",
       "   year  \n",
       "0  2011  \n",
       "1  2011  \n",
       "2  2011  \n",
       "3  2011  \n",
       "4  2011  \n",
       "5  2011  \n",
       "6  2011  \n",
       "7  2011  \n",
       "8  2011  \n",
       "9  2011  "
      ]
     },
     "execution_count": 22,
     "metadata": {},
     "output_type": "execute_result"
    }
   ],
   "source": [
    "df2 = pd.read_csv(\"timesData.csv\")\n",
    "df2.head(10)"
   ]
  },
  {
   "cell_type": "markdown",
   "id": "c723e0a8",
   "metadata": {},
   "source": [
    "# Step 2: Perform data preparation & cleaning"
   ]
  },
  {
   "cell_type": "code",
   "execution_count": 23,
   "id": "bce94373",
   "metadata": {
    "ExecuteTime": {
     "end_time": "2023-09-16T17:52:07.693723Z",
     "start_time": "2023-09-16T17:52:07.687696Z"
    }
   },
   "outputs": [],
   "source": [
    "og_copy = df.copy()"
   ]
  },
  {
   "cell_type": "code",
   "execution_count": 24,
   "id": "c3e4a49b",
   "metadata": {
    "ExecuteTime": {
     "end_time": "2023-09-16T17:52:08.082439Z",
     "start_time": "2023-09-16T17:52:08.070428Z"
    }
   },
   "outputs": [
    {
     "data": {
      "text/plain": [
       "world_rank                0\n",
       "institution               0\n",
       "country                   0\n",
       "national_rank             0\n",
       "quality_of_education      0\n",
       "alumni_employment         0\n",
       "quality_of_faculty        0\n",
       "publications              0\n",
       "influence                 0\n",
       "citations                 0\n",
       "broad_impact            200\n",
       "patents                   0\n",
       "score                     0\n",
       "year                      0\n",
       "dtype: int64"
      ]
     },
     "execution_count": 24,
     "metadata": {},
     "output_type": "execute_result"
    }
   ],
   "source": [
    "og_copy.isnull().sum()"
   ]
  },
  {
   "cell_type": "code",
   "execution_count": 25,
   "id": "9c195edc",
   "metadata": {
    "ExecuteTime": {
     "end_time": "2023-09-16T17:52:08.411327Z",
     "start_time": "2023-09-16T17:52:08.396286Z"
    }
   },
   "outputs": [
    {
     "data": {
      "text/plain": [
       "0         NaN\n",
       "1         NaN\n",
       "2         NaN\n",
       "3         NaN\n",
       "4         NaN\n",
       "        ...  \n",
       "2195    969.0\n",
       "2196    981.0\n",
       "2197    975.0\n",
       "2198    975.0\n",
       "2199    981.0\n",
       "Name: broad_impact, Length: 2200, dtype: float64"
      ]
     },
     "execution_count": 25,
     "metadata": {},
     "output_type": "execute_result"
    }
   ],
   "source": [
    "og_copy.broad_impact"
   ]
  },
  {
   "cell_type": "markdown",
   "id": "b3bd4746",
   "metadata": {},
   "source": [
    "As we can see broad impact column has 200 null values. But we cannot drop these rows as it contain important information about the ranking of Universities. <br>\n",
    "Lets see how distributed the data within this column is by using describe()"
   ]
  },
  {
   "cell_type": "code",
   "execution_count": 26,
   "id": "91bb282b",
   "metadata": {
    "ExecuteTime": {
     "end_time": "2023-09-16T17:52:09.258030Z",
     "start_time": "2023-09-16T17:52:09.235039Z"
    }
   },
   "outputs": [
    {
     "data": {
      "text/plain": [
       "count    2000.000000\n",
       "mean      496.699500\n",
       "std       286.919755\n",
       "min         1.000000\n",
       "25%       250.500000\n",
       "50%       496.000000\n",
       "75%       741.000000\n",
       "max      1000.000000\n",
       "Name: broad_impact, dtype: float64"
      ]
     },
     "execution_count": 26,
     "metadata": {},
     "output_type": "execute_result"
    }
   ],
   "source": [
    "og_copy['broad_impact'].describe()"
   ]
  },
  {
   "cell_type": "markdown",
   "id": "b1c4ef67",
   "metadata": {
    "ExecuteTime": {
     "end_time": "2023-07-01T13:07:18.722945Z",
     "start_time": "2023-07-01T13:06:35.358374Z"
    }
   },
   "source": [
    "We can see here the deviation of data in this column is not abnormal. So we can fill these null values with the mean."
   ]
  },
  {
   "cell_type": "code",
   "execution_count": 27,
   "id": "174f29d2",
   "metadata": {
    "ExecuteTime": {
     "end_time": "2023-09-16T17:52:10.154603Z",
     "start_time": "2023-09-16T17:52:10.139089Z"
    }
   },
   "outputs": [
    {
     "data": {
      "text/plain": [
       "496.6995"
      ]
     },
     "execution_count": 27,
     "metadata": {},
     "output_type": "execute_result"
    }
   ],
   "source": [
    "og_copy['broad_impact'].mean()"
   ]
  },
  {
   "cell_type": "code",
   "execution_count": 28,
   "id": "3dd9886a",
   "metadata": {
    "ExecuteTime": {
     "end_time": "2023-09-16T17:52:10.528686Z",
     "start_time": "2023-09-16T17:52:10.523702Z"
    }
   },
   "outputs": [],
   "source": [
    "og_copy['broad_impact'].fillna(value=496.6995,inplace=True)"
   ]
  },
  {
   "cell_type": "code",
   "execution_count": 29,
   "id": "94fc1430",
   "metadata": {
    "ExecuteTime": {
     "end_time": "2023-09-16T17:52:11.010036Z",
     "start_time": "2023-09-16T17:52:10.991037Z"
    }
   },
   "outputs": [
    {
     "data": {
      "text/plain": [
       "world_rank              0\n",
       "institution             0\n",
       "country                 0\n",
       "national_rank           0\n",
       "quality_of_education    0\n",
       "alumni_employment       0\n",
       "quality_of_faculty      0\n",
       "publications            0\n",
       "influence               0\n",
       "citations               0\n",
       "broad_impact            0\n",
       "patents                 0\n",
       "score                   0\n",
       "year                    0\n",
       "dtype: int64"
      ]
     },
     "execution_count": 29,
     "metadata": {},
     "output_type": "execute_result"
    }
   ],
   "source": [
    "og_copy.isnull().sum()"
   ]
  },
  {
   "cell_type": "code",
   "execution_count": 30,
   "id": "ec4ed51b",
   "metadata": {
    "ExecuteTime": {
     "end_time": "2023-09-16T17:52:11.511262Z",
     "start_time": "2023-09-16T17:52:11.467262Z"
    }
   },
   "outputs": [
    {
     "data": {
      "text/html": [
       "<div>\n",
       "<style scoped>\n",
       "    .dataframe tbody tr th:only-of-type {\n",
       "        vertical-align: middle;\n",
       "    }\n",
       "\n",
       "    .dataframe tbody tr th {\n",
       "        vertical-align: top;\n",
       "    }\n",
       "\n",
       "    .dataframe thead th {\n",
       "        text-align: right;\n",
       "    }\n",
       "</style>\n",
       "<table border=\"1\" class=\"dataframe\">\n",
       "  <thead>\n",
       "    <tr style=\"text-align: right;\">\n",
       "      <th></th>\n",
       "      <th>world_rank</th>\n",
       "      <th>national_rank</th>\n",
       "      <th>quality_of_education</th>\n",
       "      <th>alumni_employment</th>\n",
       "      <th>quality_of_faculty</th>\n",
       "      <th>publications</th>\n",
       "      <th>influence</th>\n",
       "      <th>citations</th>\n",
       "      <th>broad_impact</th>\n",
       "      <th>patents</th>\n",
       "      <th>score</th>\n",
       "      <th>year</th>\n",
       "    </tr>\n",
       "  </thead>\n",
       "  <tbody>\n",
       "    <tr>\n",
       "      <th>count</th>\n",
       "      <td>2200.000000</td>\n",
       "      <td>2200.000000</td>\n",
       "      <td>2200.000000</td>\n",
       "      <td>2200.000000</td>\n",
       "      <td>2200.000000</td>\n",
       "      <td>2200.000000</td>\n",
       "      <td>2200.000000</td>\n",
       "      <td>2200.000000</td>\n",
       "      <td>2200.000000</td>\n",
       "      <td>2200.000000</td>\n",
       "      <td>2200.000000</td>\n",
       "      <td>2200.000000</td>\n",
       "    </tr>\n",
       "    <tr>\n",
       "      <th>mean</th>\n",
       "      <td>459.590909</td>\n",
       "      <td>40.278182</td>\n",
       "      <td>275.100455</td>\n",
       "      <td>357.116818</td>\n",
       "      <td>178.888182</td>\n",
       "      <td>459.908636</td>\n",
       "      <td>459.797727</td>\n",
       "      <td>413.417273</td>\n",
       "      <td>496.699500</td>\n",
       "      <td>433.346364</td>\n",
       "      <td>47.798395</td>\n",
       "      <td>2014.318182</td>\n",
       "    </tr>\n",
       "    <tr>\n",
       "      <th>std</th>\n",
       "      <td>304.320363</td>\n",
       "      <td>51.740870</td>\n",
       "      <td>121.935100</td>\n",
       "      <td>186.779252</td>\n",
       "      <td>64.050885</td>\n",
       "      <td>303.760352</td>\n",
       "      <td>303.331822</td>\n",
       "      <td>264.366549</td>\n",
       "      <td>273.561032</td>\n",
       "      <td>273.996525</td>\n",
       "      <td>7.760806</td>\n",
       "      <td>0.762130</td>\n",
       "    </tr>\n",
       "    <tr>\n",
       "      <th>min</th>\n",
       "      <td>1.000000</td>\n",
       "      <td>1.000000</td>\n",
       "      <td>1.000000</td>\n",
       "      <td>1.000000</td>\n",
       "      <td>1.000000</td>\n",
       "      <td>1.000000</td>\n",
       "      <td>1.000000</td>\n",
       "      <td>1.000000</td>\n",
       "      <td>1.000000</td>\n",
       "      <td>1.000000</td>\n",
       "      <td>43.360000</td>\n",
       "      <td>2012.000000</td>\n",
       "    </tr>\n",
       "    <tr>\n",
       "      <th>25%</th>\n",
       "      <td>175.750000</td>\n",
       "      <td>6.000000</td>\n",
       "      <td>175.750000</td>\n",
       "      <td>175.750000</td>\n",
       "      <td>175.750000</td>\n",
       "      <td>175.750000</td>\n",
       "      <td>175.750000</td>\n",
       "      <td>161.000000</td>\n",
       "      <td>273.000000</td>\n",
       "      <td>170.750000</td>\n",
       "      <td>44.460000</td>\n",
       "      <td>2014.000000</td>\n",
       "    </tr>\n",
       "    <tr>\n",
       "      <th>50%</th>\n",
       "      <td>450.500000</td>\n",
       "      <td>21.000000</td>\n",
       "      <td>355.000000</td>\n",
       "      <td>450.500000</td>\n",
       "      <td>210.000000</td>\n",
       "      <td>450.500000</td>\n",
       "      <td>450.500000</td>\n",
       "      <td>406.000000</td>\n",
       "      <td>496.699500</td>\n",
       "      <td>426.000000</td>\n",
       "      <td>45.100000</td>\n",
       "      <td>2014.000000</td>\n",
       "    </tr>\n",
       "    <tr>\n",
       "      <th>75%</th>\n",
       "      <td>725.250000</td>\n",
       "      <td>49.000000</td>\n",
       "      <td>367.000000</td>\n",
       "      <td>478.000000</td>\n",
       "      <td>218.000000</td>\n",
       "      <td>725.000000</td>\n",
       "      <td>725.250000</td>\n",
       "      <td>645.000000</td>\n",
       "      <td>716.000000</td>\n",
       "      <td>714.250000</td>\n",
       "      <td>47.545000</td>\n",
       "      <td>2015.000000</td>\n",
       "    </tr>\n",
       "    <tr>\n",
       "      <th>max</th>\n",
       "      <td>1000.000000</td>\n",
       "      <td>229.000000</td>\n",
       "      <td>367.000000</td>\n",
       "      <td>567.000000</td>\n",
       "      <td>218.000000</td>\n",
       "      <td>1000.000000</td>\n",
       "      <td>991.000000</td>\n",
       "      <td>812.000000</td>\n",
       "      <td>1000.000000</td>\n",
       "      <td>871.000000</td>\n",
       "      <td>100.000000</td>\n",
       "      <td>2015.000000</td>\n",
       "    </tr>\n",
       "  </tbody>\n",
       "</table>\n",
       "</div>"
      ],
      "text/plain": [
       "        world_rank  national_rank  quality_of_education  alumni_employment  \\\n",
       "count  2200.000000    2200.000000           2200.000000        2200.000000   \n",
       "mean    459.590909      40.278182            275.100455         357.116818   \n",
       "std     304.320363      51.740870            121.935100         186.779252   \n",
       "min       1.000000       1.000000              1.000000           1.000000   \n",
       "25%     175.750000       6.000000            175.750000         175.750000   \n",
       "50%     450.500000      21.000000            355.000000         450.500000   \n",
       "75%     725.250000      49.000000            367.000000         478.000000   \n",
       "max    1000.000000     229.000000            367.000000         567.000000   \n",
       "\n",
       "       quality_of_faculty  publications    influence    citations  \\\n",
       "count         2200.000000   2200.000000  2200.000000  2200.000000   \n",
       "mean           178.888182    459.908636   459.797727   413.417273   \n",
       "std             64.050885    303.760352   303.331822   264.366549   \n",
       "min              1.000000      1.000000     1.000000     1.000000   \n",
       "25%            175.750000    175.750000   175.750000   161.000000   \n",
       "50%            210.000000    450.500000   450.500000   406.000000   \n",
       "75%            218.000000    725.000000   725.250000   645.000000   \n",
       "max            218.000000   1000.000000   991.000000   812.000000   \n",
       "\n",
       "       broad_impact      patents        score         year  \n",
       "count   2200.000000  2200.000000  2200.000000  2200.000000  \n",
       "mean     496.699500   433.346364    47.798395  2014.318182  \n",
       "std      273.561032   273.996525     7.760806     0.762130  \n",
       "min        1.000000     1.000000    43.360000  2012.000000  \n",
       "25%      273.000000   170.750000    44.460000  2014.000000  \n",
       "50%      496.699500   426.000000    45.100000  2014.000000  \n",
       "75%      716.000000   714.250000    47.545000  2015.000000  \n",
       "max     1000.000000   871.000000   100.000000  2015.000000  "
      ]
     },
     "execution_count": 30,
     "metadata": {},
     "output_type": "execute_result"
    }
   ],
   "source": [
    "og_copy.describe()"
   ]
  },
  {
   "cell_type": "markdown",
   "id": "c5ecfc59",
   "metadata": {},
   "source": [
    "Next step is to check if each column is of appropriate data type or not."
   ]
  },
  {
   "cell_type": "code",
   "execution_count": 31,
   "id": "6c02950d",
   "metadata": {
    "ExecuteTime": {
     "end_time": "2023-09-16T17:52:12.578908Z",
     "start_time": "2023-09-16T17:52:12.567867Z"
    }
   },
   "outputs": [
    {
     "name": "stdout",
     "output_type": "stream",
     "text": [
      "<class 'pandas.core.frame.DataFrame'>\n",
      "RangeIndex: 2200 entries, 0 to 2199\n",
      "Data columns (total 14 columns):\n",
      " #   Column                Non-Null Count  Dtype  \n",
      "---  ------                --------------  -----  \n",
      " 0   world_rank            2200 non-null   int64  \n",
      " 1   institution           2200 non-null   object \n",
      " 2   country               2200 non-null   object \n",
      " 3   national_rank         2200 non-null   int64  \n",
      " 4   quality_of_education  2200 non-null   int64  \n",
      " 5   alumni_employment     2200 non-null   int64  \n",
      " 6   quality_of_faculty    2200 non-null   int64  \n",
      " 7   publications          2200 non-null   int64  \n",
      " 8   influence             2200 non-null   int64  \n",
      " 9   citations             2200 non-null   int64  \n",
      " 10  broad_impact          2200 non-null   float64\n",
      " 11  patents               2200 non-null   int64  \n",
      " 12  score                 2200 non-null   float64\n",
      " 13  year                  2200 non-null   int64  \n",
      "dtypes: float64(2), int64(10), object(2)\n",
      "memory usage: 240.8+ KB\n"
     ]
    }
   ],
   "source": [
    "og_copy.info()"
   ]
  },
  {
   "cell_type": "markdown",
   "id": "7eec8d7c",
   "metadata": {},
   "source": [
    "Columns YEAR HAS ITS data type wrong here. YEAR should be of DATE datatype, BUT SINCE DATE ONLY HAS YEAR VALUE, WE CAN ALSO CHANGE IT TO INT DATA TYPE.<br>\n",
    "    lets convert the data type of this column"
   ]
  },
  {
   "cell_type": "code",
   "execution_count": 32,
   "id": "6a487a43",
   "metadata": {
    "ExecuteTime": {
     "end_time": "2023-09-16T17:52:13.425302Z",
     "start_time": "2023-09-16T17:52:13.411263Z"
    }
   },
   "outputs": [],
   "source": [
    "og_copy['year'] = og_copy['year'].astype('int')\n"
   ]
  },
  {
   "cell_type": "code",
   "execution_count": 33,
   "id": "ffb6b3fe",
   "metadata": {
    "ExecuteTime": {
     "end_time": "2023-09-16T17:52:14.192738Z",
     "start_time": "2023-09-16T17:52:14.167771Z"
    }
   },
   "outputs": [
    {
     "data": {
      "text/html": [
       "<div>\n",
       "<style scoped>\n",
       "    .dataframe tbody tr th:only-of-type {\n",
       "        vertical-align: middle;\n",
       "    }\n",
       "\n",
       "    .dataframe tbody tr th {\n",
       "        vertical-align: top;\n",
       "    }\n",
       "\n",
       "    .dataframe thead th {\n",
       "        text-align: right;\n",
       "    }\n",
       "</style>\n",
       "<table border=\"1\" class=\"dataframe\">\n",
       "  <thead>\n",
       "    <tr style=\"text-align: right;\">\n",
       "      <th></th>\n",
       "      <th>world_rank</th>\n",
       "      <th>institution</th>\n",
       "      <th>country</th>\n",
       "      <th>national_rank</th>\n",
       "      <th>quality_of_education</th>\n",
       "      <th>alumni_employment</th>\n",
       "      <th>quality_of_faculty</th>\n",
       "      <th>publications</th>\n",
       "      <th>influence</th>\n",
       "      <th>citations</th>\n",
       "      <th>broad_impact</th>\n",
       "      <th>patents</th>\n",
       "      <th>score</th>\n",
       "      <th>year</th>\n",
       "    </tr>\n",
       "  </thead>\n",
       "  <tbody>\n",
       "    <tr>\n",
       "      <th>0</th>\n",
       "      <td>1</td>\n",
       "      <td>Harvard University</td>\n",
       "      <td>USA</td>\n",
       "      <td>1</td>\n",
       "      <td>7</td>\n",
       "      <td>9</td>\n",
       "      <td>1</td>\n",
       "      <td>1</td>\n",
       "      <td>1</td>\n",
       "      <td>1</td>\n",
       "      <td>496.6995</td>\n",
       "      <td>5</td>\n",
       "      <td>100.00</td>\n",
       "      <td>2012</td>\n",
       "    </tr>\n",
       "    <tr>\n",
       "      <th>1</th>\n",
       "      <td>2</td>\n",
       "      <td>Massachusetts Institute of Technology</td>\n",
       "      <td>USA</td>\n",
       "      <td>2</td>\n",
       "      <td>9</td>\n",
       "      <td>17</td>\n",
       "      <td>3</td>\n",
       "      <td>12</td>\n",
       "      <td>4</td>\n",
       "      <td>4</td>\n",
       "      <td>496.6995</td>\n",
       "      <td>1</td>\n",
       "      <td>91.67</td>\n",
       "      <td>2012</td>\n",
       "    </tr>\n",
       "    <tr>\n",
       "      <th>2</th>\n",
       "      <td>3</td>\n",
       "      <td>Stanford University</td>\n",
       "      <td>USA</td>\n",
       "      <td>3</td>\n",
       "      <td>17</td>\n",
       "      <td>11</td>\n",
       "      <td>5</td>\n",
       "      <td>4</td>\n",
       "      <td>2</td>\n",
       "      <td>2</td>\n",
       "      <td>496.6995</td>\n",
       "      <td>15</td>\n",
       "      <td>89.50</td>\n",
       "      <td>2012</td>\n",
       "    </tr>\n",
       "    <tr>\n",
       "      <th>3</th>\n",
       "      <td>4</td>\n",
       "      <td>University of Cambridge</td>\n",
       "      <td>United Kingdom</td>\n",
       "      <td>1</td>\n",
       "      <td>10</td>\n",
       "      <td>24</td>\n",
       "      <td>4</td>\n",
       "      <td>16</td>\n",
       "      <td>16</td>\n",
       "      <td>11</td>\n",
       "      <td>496.6995</td>\n",
       "      <td>50</td>\n",
       "      <td>86.17</td>\n",
       "      <td>2012</td>\n",
       "    </tr>\n",
       "    <tr>\n",
       "      <th>4</th>\n",
       "      <td>5</td>\n",
       "      <td>California Institute of Technology</td>\n",
       "      <td>USA</td>\n",
       "      <td>4</td>\n",
       "      <td>2</td>\n",
       "      <td>29</td>\n",
       "      <td>7</td>\n",
       "      <td>37</td>\n",
       "      <td>22</td>\n",
       "      <td>22</td>\n",
       "      <td>496.6995</td>\n",
       "      <td>18</td>\n",
       "      <td>85.21</td>\n",
       "      <td>2012</td>\n",
       "    </tr>\n",
       "    <tr>\n",
       "      <th>...</th>\n",
       "      <td>...</td>\n",
       "      <td>...</td>\n",
       "      <td>...</td>\n",
       "      <td>...</td>\n",
       "      <td>...</td>\n",
       "      <td>...</td>\n",
       "      <td>...</td>\n",
       "      <td>...</td>\n",
       "      <td>...</td>\n",
       "      <td>...</td>\n",
       "      <td>...</td>\n",
       "      <td>...</td>\n",
       "      <td>...</td>\n",
       "      <td>...</td>\n",
       "    </tr>\n",
       "    <tr>\n",
       "      <th>2195</th>\n",
       "      <td>996</td>\n",
       "      <td>University of the Algarve</td>\n",
       "      <td>Portugal</td>\n",
       "      <td>7</td>\n",
       "      <td>367</td>\n",
       "      <td>567</td>\n",
       "      <td>218</td>\n",
       "      <td>926</td>\n",
       "      <td>845</td>\n",
       "      <td>812</td>\n",
       "      <td>969.0000</td>\n",
       "      <td>816</td>\n",
       "      <td>44.03</td>\n",
       "      <td>2015</td>\n",
       "    </tr>\n",
       "    <tr>\n",
       "      <th>2196</th>\n",
       "      <td>997</td>\n",
       "      <td>Alexandria University</td>\n",
       "      <td>Egypt</td>\n",
       "      <td>4</td>\n",
       "      <td>236</td>\n",
       "      <td>566</td>\n",
       "      <td>218</td>\n",
       "      <td>997</td>\n",
       "      <td>908</td>\n",
       "      <td>645</td>\n",
       "      <td>981.0000</td>\n",
       "      <td>871</td>\n",
       "      <td>44.03</td>\n",
       "      <td>2015</td>\n",
       "    </tr>\n",
       "    <tr>\n",
       "      <th>2197</th>\n",
       "      <td>998</td>\n",
       "      <td>Federal University of Ceará</td>\n",
       "      <td>Brazil</td>\n",
       "      <td>18</td>\n",
       "      <td>367</td>\n",
       "      <td>549</td>\n",
       "      <td>218</td>\n",
       "      <td>830</td>\n",
       "      <td>823</td>\n",
       "      <td>812</td>\n",
       "      <td>975.0000</td>\n",
       "      <td>824</td>\n",
       "      <td>44.03</td>\n",
       "      <td>2015</td>\n",
       "    </tr>\n",
       "    <tr>\n",
       "      <th>2198</th>\n",
       "      <td>999</td>\n",
       "      <td>University of A Coruña</td>\n",
       "      <td>Spain</td>\n",
       "      <td>40</td>\n",
       "      <td>367</td>\n",
       "      <td>567</td>\n",
       "      <td>218</td>\n",
       "      <td>886</td>\n",
       "      <td>974</td>\n",
       "      <td>812</td>\n",
       "      <td>975.0000</td>\n",
       "      <td>651</td>\n",
       "      <td>44.02</td>\n",
       "      <td>2015</td>\n",
       "    </tr>\n",
       "    <tr>\n",
       "      <th>2199</th>\n",
       "      <td>1000</td>\n",
       "      <td>China Pharmaceutical University</td>\n",
       "      <td>China</td>\n",
       "      <td>83</td>\n",
       "      <td>367</td>\n",
       "      <td>567</td>\n",
       "      <td>218</td>\n",
       "      <td>861</td>\n",
       "      <td>991</td>\n",
       "      <td>812</td>\n",
       "      <td>981.0000</td>\n",
       "      <td>547</td>\n",
       "      <td>44.02</td>\n",
       "      <td>2015</td>\n",
       "    </tr>\n",
       "  </tbody>\n",
       "</table>\n",
       "<p>2200 rows × 14 columns</p>\n",
       "</div>"
      ],
      "text/plain": [
       "      world_rank                            institution         country  \\\n",
       "0              1                     Harvard University             USA   \n",
       "1              2  Massachusetts Institute of Technology             USA   \n",
       "2              3                    Stanford University             USA   \n",
       "3              4                University of Cambridge  United Kingdom   \n",
       "4              5     California Institute of Technology             USA   \n",
       "...          ...                                    ...             ...   \n",
       "2195         996              University of the Algarve        Portugal   \n",
       "2196         997                  Alexandria University           Egypt   \n",
       "2197         998            Federal University of Ceará          Brazil   \n",
       "2198         999                 University of A Coruña           Spain   \n",
       "2199        1000        China Pharmaceutical University           China   \n",
       "\n",
       "      national_rank  quality_of_education  alumni_employment  \\\n",
       "0                 1                     7                  9   \n",
       "1                 2                     9                 17   \n",
       "2                 3                    17                 11   \n",
       "3                 1                    10                 24   \n",
       "4                 4                     2                 29   \n",
       "...             ...                   ...                ...   \n",
       "2195              7                   367                567   \n",
       "2196              4                   236                566   \n",
       "2197             18                   367                549   \n",
       "2198             40                   367                567   \n",
       "2199             83                   367                567   \n",
       "\n",
       "      quality_of_faculty  publications  influence  citations  broad_impact  \\\n",
       "0                      1             1          1          1      496.6995   \n",
       "1                      3            12          4          4      496.6995   \n",
       "2                      5             4          2          2      496.6995   \n",
       "3                      4            16         16         11      496.6995   \n",
       "4                      7            37         22         22      496.6995   \n",
       "...                  ...           ...        ...        ...           ...   \n",
       "2195                 218           926        845        812      969.0000   \n",
       "2196                 218           997        908        645      981.0000   \n",
       "2197                 218           830        823        812      975.0000   \n",
       "2198                 218           886        974        812      975.0000   \n",
       "2199                 218           861        991        812      981.0000   \n",
       "\n",
       "      patents   score  year  \n",
       "0           5  100.00  2012  \n",
       "1           1   91.67  2012  \n",
       "2          15   89.50  2012  \n",
       "3          50   86.17  2012  \n",
       "4          18   85.21  2012  \n",
       "...       ...     ...   ...  \n",
       "2195      816   44.03  2015  \n",
       "2196      871   44.03  2015  \n",
       "2197      824   44.03  2015  \n",
       "2198      651   44.02  2015  \n",
       "2199      547   44.02  2015  \n",
       "\n",
       "[2200 rows x 14 columns]"
      ]
     },
     "execution_count": 33,
     "metadata": {},
     "output_type": "execute_result"
    }
   ],
   "source": [
    "og_copy"
   ]
  },
  {
   "cell_type": "markdown",
   "id": "67ded00d",
   "metadata": {},
   "source": [
    "lets join USA data from Timesdata and original data"
   ]
  },
  {
   "cell_type": "code",
   "execution_count": 34,
   "id": "837d3e80",
   "metadata": {
    "ExecuteTime": {
     "end_time": "2023-09-16T17:52:15.543385Z",
     "start_time": "2023-09-16T17:52:15.530345Z"
    }
   },
   "outputs": [],
   "source": [
    "og_copy.institution.drop_duplicates(inplace=True)"
   ]
  },
  {
   "cell_type": "code",
   "execution_count": 35,
   "id": "770f3482",
   "metadata": {
    "ExecuteTime": {
     "end_time": "2023-09-16T17:52:15.922222Z",
     "start_time": "2023-09-16T17:52:15.900223Z"
    }
   },
   "outputs": [
    {
     "data": {
      "text/html": [
       "<div>\n",
       "<style scoped>\n",
       "    .dataframe tbody tr th:only-of-type {\n",
       "        vertical-align: middle;\n",
       "    }\n",
       "\n",
       "    .dataframe tbody tr th {\n",
       "        vertical-align: top;\n",
       "    }\n",
       "\n",
       "    .dataframe thead th {\n",
       "        text-align: right;\n",
       "    }\n",
       "</style>\n",
       "<table border=\"1\" class=\"dataframe\">\n",
       "  <thead>\n",
       "    <tr style=\"text-align: right;\">\n",
       "      <th></th>\n",
       "      <th>world_rank</th>\n",
       "      <th>institution</th>\n",
       "      <th>country</th>\n",
       "      <th>national_rank</th>\n",
       "      <th>quality_of_education</th>\n",
       "      <th>alumni_employment</th>\n",
       "      <th>quality_of_faculty</th>\n",
       "      <th>publications</th>\n",
       "      <th>influence</th>\n",
       "      <th>citations</th>\n",
       "      <th>broad_impact</th>\n",
       "      <th>patents</th>\n",
       "      <th>score</th>\n",
       "      <th>year</th>\n",
       "    </tr>\n",
       "  </thead>\n",
       "  <tbody>\n",
       "    <tr>\n",
       "      <th>0</th>\n",
       "      <td>1</td>\n",
       "      <td>Harvard University</td>\n",
       "      <td>USA</td>\n",
       "      <td>1</td>\n",
       "      <td>7</td>\n",
       "      <td>9</td>\n",
       "      <td>1</td>\n",
       "      <td>1</td>\n",
       "      <td>1</td>\n",
       "      <td>1</td>\n",
       "      <td>496.6995</td>\n",
       "      <td>5</td>\n",
       "      <td>100.0</td>\n",
       "      <td>2012</td>\n",
       "    </tr>\n",
       "    <tr>\n",
       "      <th>100</th>\n",
       "      <td>1</td>\n",
       "      <td>Harvard University</td>\n",
       "      <td>USA</td>\n",
       "      <td>1</td>\n",
       "      <td>1</td>\n",
       "      <td>1</td>\n",
       "      <td>1</td>\n",
       "      <td>1</td>\n",
       "      <td>1</td>\n",
       "      <td>1</td>\n",
       "      <td>496.6995</td>\n",
       "      <td>7</td>\n",
       "      <td>100.0</td>\n",
       "      <td>2013</td>\n",
       "    </tr>\n",
       "    <tr>\n",
       "      <th>200</th>\n",
       "      <td>1</td>\n",
       "      <td>Harvard University</td>\n",
       "      <td>USA</td>\n",
       "      <td>1</td>\n",
       "      <td>1</td>\n",
       "      <td>1</td>\n",
       "      <td>1</td>\n",
       "      <td>1</td>\n",
       "      <td>1</td>\n",
       "      <td>1</td>\n",
       "      <td>1.0000</td>\n",
       "      <td>2</td>\n",
       "      <td>100.0</td>\n",
       "      <td>2014</td>\n",
       "    </tr>\n",
       "    <tr>\n",
       "      <th>1200</th>\n",
       "      <td>1</td>\n",
       "      <td>Harvard University</td>\n",
       "      <td>USA</td>\n",
       "      <td>1</td>\n",
       "      <td>1</td>\n",
       "      <td>1</td>\n",
       "      <td>1</td>\n",
       "      <td>1</td>\n",
       "      <td>1</td>\n",
       "      <td>1</td>\n",
       "      <td>1.0000</td>\n",
       "      <td>3</td>\n",
       "      <td>100.0</td>\n",
       "      <td>2015</td>\n",
       "    </tr>\n",
       "  </tbody>\n",
       "</table>\n",
       "</div>"
      ],
      "text/plain": [
       "      world_rank         institution country  national_rank  \\\n",
       "0              1  Harvard University     USA              1   \n",
       "100            1  Harvard University     USA              1   \n",
       "200            1  Harvard University     USA              1   \n",
       "1200           1  Harvard University     USA              1   \n",
       "\n",
       "      quality_of_education  alumni_employment  quality_of_faculty  \\\n",
       "0                        7                  9                   1   \n",
       "100                      1                  1                   1   \n",
       "200                      1                  1                   1   \n",
       "1200                     1                  1                   1   \n",
       "\n",
       "      publications  influence  citations  broad_impact  patents  score  year  \n",
       "0                1          1          1      496.6995        5  100.0  2012  \n",
       "100              1          1          1      496.6995        7  100.0  2013  \n",
       "200              1          1          1        1.0000        2  100.0  2014  \n",
       "1200             1          1          1        1.0000        3  100.0  2015  "
      ]
     },
     "execution_count": 35,
     "metadata": {},
     "output_type": "execute_result"
    }
   ],
   "source": [
    "og_copy[og_copy['institution']=='Harvard University']"
   ]
  },
  {
   "cell_type": "code",
   "execution_count": 36,
   "id": "ee42dee1",
   "metadata": {
    "ExecuteTime": {
     "end_time": "2023-09-16T17:52:16.282020Z",
     "start_time": "2023-09-16T17:52:16.263024Z"
    }
   },
   "outputs": [
    {
     "data": {
      "text/plain": [
       "(573, 14)"
      ]
     },
     "execution_count": 36,
     "metadata": {},
     "output_type": "execute_result"
    }
   ],
   "source": [
    "usa_og = og_copy[og_copy['country']=='USA']\n",
    "usa_og.shape"
   ]
  },
  {
   "cell_type": "code",
   "execution_count": 37,
   "id": "b34387ed",
   "metadata": {
    "ExecuteTime": {
     "end_time": "2023-09-16T17:52:16.785992Z",
     "start_time": "2023-09-16T17:52:16.762992Z"
    }
   },
   "outputs": [
    {
     "ename": "NameError",
     "evalue": "name 'og_times_copy' is not defined",
     "output_type": "error",
     "traceback": [
      "\u001b[1;31m---------------------------------------------------------------------------\u001b[0m",
      "\u001b[1;31mNameError\u001b[0m                                 Traceback (most recent call last)",
      "\u001b[1;32m<ipython-input-37-6a24fdce209d>\u001b[0m in \u001b[0;36m<module>\u001b[1;34m\u001b[0m\n\u001b[1;32m----> 1\u001b[1;33m \u001b[0musa_df2\u001b[0m \u001b[1;33m=\u001b[0m \u001b[0mog_times_copy\u001b[0m\u001b[1;33m[\u001b[0m\u001b[0mog_times_copy\u001b[0m\u001b[1;33m[\u001b[0m\u001b[1;34m'country'\u001b[0m\u001b[1;33m]\u001b[0m \u001b[1;33m==\u001b[0m \u001b[1;34m'USA'\u001b[0m\u001b[1;33m]\u001b[0m\u001b[1;33m\u001b[0m\u001b[1;33m\u001b[0m\u001b[0m\n\u001b[0m\u001b[0;32m      2\u001b[0m \u001b[0musa_df2\u001b[0m\u001b[1;33m.\u001b[0m\u001b[0mshape\u001b[0m\u001b[1;33m\u001b[0m\u001b[1;33m\u001b[0m\u001b[0m\n",
      "\u001b[1;31mNameError\u001b[0m: name 'og_times_copy' is not defined"
     ]
    }
   ],
   "source": [
    "usa_df2 = og_times_copy[og_times_copy['country'] == 'USA']\n",
    "usa_df2.shape"
   ]
  },
  {
   "cell_type": "code",
   "execution_count": null,
   "id": "6511de54",
   "metadata": {
    "ExecuteTime": {
     "end_time": "2023-09-16T17:51:42.792531Z",
     "start_time": "2023-09-16T17:51:40.286Z"
    }
   },
   "outputs": [],
   "source": [
    "usa_df2.institution.drop_duplicates(inplace=True)"
   ]
  },
  {
   "cell_type": "code",
   "execution_count": null,
   "id": "5773c157",
   "metadata": {
    "ExecuteTime": {
     "end_time": "2023-09-16T17:51:42.793522Z",
     "start_time": "2023-09-16T17:51:40.287Z"
    }
   },
   "outputs": [],
   "source": [
    "usa_df2.shape"
   ]
  },
  {
   "cell_type": "code",
   "execution_count": null,
   "id": "586fe9b8",
   "metadata": {
    "ExecuteTime": {
     "end_time": "2023-09-16T17:51:42.794511Z",
     "start_time": "2023-09-16T17:51:40.288Z"
    }
   },
   "outputs": [],
   "source": [
    "final = usa_og.merge(usa_df2,on='institution',suffixes=['_left','right'],how = 'left',indicator = True)"
   ]
  },
  {
   "cell_type": "code",
   "execution_count": null,
   "id": "84d03f11",
   "metadata": {
    "ExecuteTime": {
     "end_time": "2023-09-16T17:51:42.795510Z",
     "start_time": "2023-09-16T17:51:40.289Z"
    }
   },
   "outputs": [],
   "source": [
    "final = final[final['_merge']=='both']"
   ]
  },
  {
   "cell_type": "code",
   "execution_count": null,
   "id": "edd32f41",
   "metadata": {
    "ExecuteTime": {
     "end_time": "2023-09-16T17:51:42.796511Z",
     "start_time": "2023-09-16T17:51:40.290Z"
    }
   },
   "outputs": [],
   "source": [
    "final.info()"
   ]
  },
  {
   "cell_type": "code",
   "execution_count": null,
   "id": "aee09145",
   "metadata": {
    "ExecuteTime": {
     "end_time": "2023-09-16T17:51:42.797511Z",
     "start_time": "2023-09-16T17:51:40.291Z"
    }
   },
   "outputs": [],
   "source": [
    "final"
   ]
  },
  {
   "cell_type": "code",
   "execution_count": null,
   "id": "e78e654d",
   "metadata": {
    "ExecuteTime": {
     "end_time": "2023-09-16T17:51:42.798524Z",
     "start_time": "2023-09-16T17:51:40.292Z"
    }
   },
   "outputs": [],
   "source": [
    "final.shape"
   ]
  },
  {
   "cell_type": "code",
   "execution_count": null,
   "id": "04e17b32",
   "metadata": {
    "ExecuteTime": {
     "end_time": "2023-09-16T17:51:42.799531Z",
     "start_time": "2023-09-16T17:51:40.292Z"
    }
   },
   "outputs": [],
   "source": [
    "final = final.groupby(final.index)[['world_rank_left', 'national_rank', 'quality_of_education',\n",
    "                                    'alumni_employment', 'quality_of_faculty', 'publications', 'influence',\n",
    "                                    'citations_left', 'broad_impact', 'patents', 'score', 'teaching',\n",
    "                                    'research', 'citationsright']].agg('mean')"
   ]
  },
  {
   "cell_type": "code",
   "execution_count": null,
   "id": "cee4b85c",
   "metadata": {
    "ExecuteTime": {
     "end_time": "2023-09-16T17:51:42.800512Z",
     "start_time": "2023-09-16T17:51:40.293Z"
    }
   },
   "outputs": [],
   "source": [
    "final.columns"
   ]
  },
  {
   "cell_type": "code",
   "execution_count": null,
   "id": "8817a0a9",
   "metadata": {
    "ExecuteTime": {
     "end_time": "2023-09-16T17:51:42.801512Z",
     "start_time": "2023-09-16T17:51:40.294Z"
    }
   },
   "outputs": [],
   "source": [
    "final"
   ]
  },
  {
   "cell_type": "code",
   "execution_count": null,
   "id": "39fe1650",
   "metadata": {},
   "outputs": [],
   "source": []
  },
  {
   "cell_type": "code",
   "execution_count": null,
   "id": "ff8f6753",
   "metadata": {},
   "outputs": [],
   "source": []
  },
  {
   "cell_type": "markdown",
   "id": "106a0a25",
   "metadata": {},
   "source": [
    "Now we have cleaned the data. Got rid of null values, changed data types of columns where it was necessary.<br>\n",
    "we can move on to the next step"
   ]
  },
  {
   "cell_type": "markdown",
   "id": "b31ea778",
   "metadata": {},
   "source": [
    "# Step 3: Perform exploratory analysis & visualization\n",
    "\n"
   ]
  },
  {
   "cell_type": "markdown",
   "id": "168a71fc",
   "metadata": {},
   "source": [
    " Lets see which country has the most number of universties in top 100 world uni rankings\n",
    " "
   ]
  },
  {
   "cell_type": "code",
   "execution_count": null,
   "id": "836b3e3d",
   "metadata": {
    "ExecuteTime": {
     "end_time": "2023-09-16T17:51:42.803515Z",
     "start_time": "2023-09-16T17:51:40.297Z"
    }
   },
   "outputs": [],
   "source": [
    "top_50_data = og_copy.head(100)\n",
    "top_50_unis_countrycount = top_50_data['country'].value_counts()\n",
    "top_50_unis_countrycount = pd.DataFrame(top_50_unis_countrycount)\n",
    "top_50_unis_countrycount.sort_values('country',ascending = True)"
   ]
  },
  {
   "cell_type": "code",
   "execution_count": null,
   "id": "6375d2e3",
   "metadata": {
    "ExecuteTime": {
     "end_time": "2023-09-16T17:51:42.804512Z",
     "start_time": "2023-09-16T17:51:40.299Z"
    }
   },
   "outputs": [],
   "source": [
    "fig = px.bar(top_50_unis_countrycount, y=top_50_unis_countrycount.index,\n",
    "             x=top_50_unis_countrycount.country, orientation='h',color = top_50_unis_countrycount.index\n",
    "             )\n",
    "fig.update_layout(\n",
    "    title='COUNT OF COUNTRIES IN TOP 100 WORLD UNIVERSITIES RANKINGS',\n",
    "    xaxis_title='OCCURANCE',\n",
    "    yaxis_title='COUNTRY'\n",
    ")\n",
    "fig.show()"
   ]
  },
  {
   "cell_type": "markdown",
   "id": "473eebc5",
   "metadata": {
    "ExecuteTime": {
     "end_time": "2023-07-01T13:59:25.655888Z",
     "start_time": "2023-07-01T13:59:25.634059Z"
    }
   },
   "source": [
    "We can clearly see USA dominating the TOP 100 WORLD UNIVERSITY RANKING chart with a presence of 58 times!!<br>\n",
    "That means out of 100, 58 Unis listed here are from USA. <br>\n",
    "That's why most of the students prefer USA over any other countries for MS,PHD's and higher studies."
   ]
  },
  {
   "cell_type": "markdown",
   "id": "75d7d550",
   "metadata": {
    "ExecuteTime": {
     "end_time": "2023-07-01T14:20:27.683559Z",
     "start_time": "2023-07-01T14:20:27.662281Z"
    }
   },
   "source": [
    "## A small comparison between USA and INDIAN universities"
   ]
  },
  {
   "cell_type": "code",
   "execution_count": null,
   "id": "a89b5502",
   "metadata": {
    "ExecuteTime": {
     "end_time": "2023-09-16T17:51:42.806512Z",
     "start_time": "2023-09-16T17:51:40.301Z"
    }
   },
   "outputs": [],
   "source": [
    "usa_ind_unis = og_copy[og_copy['country'].isin(['India','USA'])]\n",
    "usa_ind_unis"
   ]
  },
  {
   "cell_type": "markdown",
   "id": "ffe4d70c",
   "metadata": {},
   "source": [
    "Lets see how many times India and USA makes into top 1000"
   ]
  },
  {
   "cell_type": "code",
   "execution_count": null,
   "id": "dd1144ad",
   "metadata": {
    "ExecuteTime": {
     "end_time": "2023-09-16T17:51:42.807512Z",
     "start_time": "2023-09-16T17:51:40.303Z"
    }
   },
   "outputs": [],
   "source": [
    "top1000USAIND = usa_ind_unis.head(1000)\n",
    "top1000USAIND_count = top1000USAIND['country'].value_counts()\n",
    "top1000USAIND_count = pd.DataFrame(top1000USAIND_count)\n",
    "top1000USAIND_count"
   ]
  },
  {
   "cell_type": "code",
   "execution_count": null,
   "id": "259b69b7",
   "metadata": {
    "ExecuteTime": {
     "end_time": "2023-09-16T17:51:42.808513Z",
     "start_time": "2023-09-16T17:51:40.304Z"
    }
   },
   "outputs": [],
   "source": [
    "fig = go.Figure()\n",
    "fig.add_trace(go.Bar(x=top1000USAIND_count.index, y=top1000USAIND_count.country,\n",
    "                     text=top1000USAIND_count.country, width=0.2))"
   ]
  },
  {
   "cell_type": "markdown",
   "id": "1a319713",
   "metadata": {},
   "source": [
    "We can see INDIA only occurs 31 times while USA occurs 573 times, which makes us think about our education system.<br>\n",
    "Lets go the next step and understand what is lacking in our education system!"
   ]
  },
  {
   "cell_type": "markdown",
   "id": "7fcf306f",
   "metadata": {
    "ExecuteTime": {
     "end_time": "2023-07-01T14:27:56.130428Z",
     "start_time": "2023-07-01T14:27:56.100779Z"
    }
   },
   "source": [
    "Lets compare something that matters the most when it comes to universities and that is QUALITY OF EDUCATION"
   ]
  },
  {
   "cell_type": "code",
   "execution_count": null,
   "id": "f67cda29",
   "metadata": {
    "ExecuteTime": {
     "end_time": "2023-09-16T17:51:42.809513Z",
     "start_time": "2023-09-16T17:51:40.306Z"
    }
   },
   "outputs": [],
   "source": [
    "QOE = usa_ind_unis.groupby('country')['quality_of_education'].sum()\n",
    "QOE=pd.DataFrame(QOE)"
   ]
  },
  {
   "cell_type": "code",
   "execution_count": null,
   "id": "db96272b",
   "metadata": {
    "ExecuteTime": {
     "end_time": "2023-09-16T17:51:42.810513Z",
     "start_time": "2023-09-16T17:51:40.307Z"
    }
   },
   "outputs": [],
   "source": [
    "fig = go.Figure()\n",
    "colors = ['Blue', 'red']\n",
    "fig.add_trace(go.Bar(x=QOE.index, y=QOE.quality_of_education,\n",
    "                     width=0.5, text=QOE.quality_of_education,\n",
    "                     textposition='auto', marker=dict(color=colors)\n",
    "                    ))\n",
    "fig.update_layout(\n",
    "    title={\n",
    "        'text': 'QUALITY OF EDUCATION(INDIA VS USA)',\n",
    "        'x': 0.5, \n",
    "        'xanchor': 'center' \n",
    "    },\n",
    "    xaxis_title='COUNTRIES',\n",
    "    yaxis_title='QUALITY OF EDUCATION',\n",
    "\n",
    ")"
   ]
  },
  {
   "cell_type": "markdown",
   "id": "51eb3af4",
   "metadata": {
    "ExecuteTime": {
     "end_time": "2023-07-01T14:33:57.068430Z",
     "start_time": "2023-07-01T14:33:57.043457Z"
    }
   },
   "source": [
    "Here, there's humongous difference between quality of education in INDIA vs quality of education in USA. <br>\n",
    "We can say USA's quality of Education is more than 10x better than India's. <br>"
   ]
  },
  {
   "cell_type": "markdown",
   "id": "860f3249",
   "metadata": {},
   "source": [
    "Lets compare how we do in  quality of faculty, publications, influence, citations, broad impact, patents, score compared to USA"
   ]
  },
  {
   "cell_type": "code",
   "execution_count": null,
   "id": "b20c2d0d",
   "metadata": {
    "ExecuteTime": {
     "end_time": "2023-09-16T17:51:42.811516Z",
     "start_time": "2023-09-16T17:51:40.309Z"
    }
   },
   "outputs": [],
   "source": [
    "metrics = usa_ind_unis.groupby('country')[['quality_of_faculty',\n",
    "                                         'publications', 'influence', 'citations', 'broad_impact', 'patents',\n",
    "                                         'score']].sum()"
   ]
  },
  {
   "cell_type": "code",
   "execution_count": null,
   "id": "e01984df",
   "metadata": {
    "ExecuteTime": {
     "end_time": "2023-09-16T17:51:42.813512Z",
     "start_time": "2023-09-16T17:51:40.310Z"
    }
   },
   "outputs": [],
   "source": [
    "pd.DataFrame(metrics)"
   ]
  },
  {
   "cell_type": "markdown",
   "id": "9a05de4a",
   "metadata": {},
   "source": [
    "We can already see USA outperforming INDIA in each aspect, but lets understand this with some plots."
   ]
  },
  {
   "cell_type": "code",
   "execution_count": 19,
   "id": "c53de956",
   "metadata": {
    "ExecuteTime": {
     "end_time": "2023-09-16T17:51:57.913777Z",
     "start_time": "2023-09-16T17:51:57.863774Z"
    }
   },
   "outputs": [
    {
     "ename": "NameError",
     "evalue": "name 'metrics' is not defined",
     "output_type": "error",
     "traceback": [
      "\u001b[1;31m---------------------------------------------------------------------------\u001b[0m",
      "\u001b[1;31mNameError\u001b[0m                                 Traceback (most recent call last)",
      "\u001b[1;32m<ipython-input-19-6ddfea0a6474>\u001b[0m in \u001b[0;36m<module>\u001b[1;34m\u001b[0m\n\u001b[0;32m      1\u001b[0m \u001b[1;31m# Create a grouped bar chart\u001b[0m\u001b[1;33m\u001b[0m\u001b[1;33m\u001b[0m\u001b[1;33m\u001b[0m\u001b[0m\n\u001b[0;32m      2\u001b[0m \u001b[0mfig\u001b[0m \u001b[1;33m=\u001b[0m \u001b[0mgo\u001b[0m\u001b[1;33m.\u001b[0m\u001b[0mFigure\u001b[0m\u001b[1;33m(\u001b[0m\u001b[1;33m)\u001b[0m\u001b[1;33m\u001b[0m\u001b[1;33m\u001b[0m\u001b[0m\n\u001b[1;32m----> 3\u001b[1;33m \u001b[0mcountries\u001b[0m \u001b[1;33m=\u001b[0m \u001b[0mmetrics\u001b[0m\u001b[1;33m.\u001b[0m\u001b[0mindex\u001b[0m\u001b[1;33m\u001b[0m\u001b[1;33m\u001b[0m\u001b[0m\n\u001b[0m\u001b[0;32m      4\u001b[0m \u001b[0mvariables\u001b[0m \u001b[1;33m=\u001b[0m \u001b[0mlist\u001b[0m\u001b[1;33m(\u001b[0m\u001b[0mmetrics\u001b[0m\u001b[1;33m.\u001b[0m\u001b[0mcolumns\u001b[0m\u001b[1;33m)\u001b[0m\u001b[1;33m\u001b[0m\u001b[1;33m\u001b[0m\u001b[0m\n\u001b[0;32m      5\u001b[0m \u001b[1;33m\u001b[0m\u001b[0m\n",
      "\u001b[1;31mNameError\u001b[0m: name 'metrics' is not defined"
     ]
    }
   ],
   "source": [
    "# Create a grouped bar chart\n",
    "fig = go.Figure()\n",
    "countries = metrics.index\n",
    "variables = list(metrics.columns)\n",
    "\n",
    "for variable in variables:\n",
    "    fig.add_trace(go.Bar(\n",
    "        x=countries,\n",
    "        y=metrics[variable],\n",
    "        name=variable,\n",
    "        text=metrics[variable],\n",
    "        textposition='outside',\n",
    "    ))\n",
    "\n",
    "# Customize the layout\n",
    "fig.update_layout(\n",
    "    title={'text': 'Comparison of Variables between Countries',\n",
    "           'x': 0.5, 'xanchor': 'center'},\n",
    "    xaxis_title='Country',\n",
    "    yaxis_title='Value',\n",
    "    barmode='group',\n",
    "    width = 1000,\n",
    "    height = 600,\n",
    "    template = 'plotly_dark'\n",
    ")\n",
    "\n",
    "# Display the plot\n",
    "fig.show()"
   ]
  },
  {
   "cell_type": "markdown",
   "id": "9e0332f1",
   "metadata": {
    "ExecuteTime": {
     "end_time": "2023-07-01T15:14:36.369137Z",
     "start_time": "2023-07-01T15:14:36.340842Z"
    }
   },
   "source": [
    "This chart it sums it all pretty well.<br>\n",
    "This chart should answer each and every question related to why INDIA lacks behind compared to USA in WORLD UNIVERSITY RANKINGS.<br>\n",
    "This is the sum of each column i.e for  quality of faculty, publications, influence, citations, broad impact, patents, score of both the nations.<br>\n",
    "We can consider these values as points, so each bar represents total points for that respective column."
   ]
  },
  {
   "cell_type": "markdown",
   "id": "477822cf",
   "metadata": {},
   "source": [
    "## Lets see which University from which Country has the most number of Patents"
   ]
  },
  {
   "cell_type": "code",
   "execution_count": null,
   "id": "e89db459",
   "metadata": {
    "ExecuteTime": {
     "end_time": "2023-09-16T17:51:42.815513Z",
     "start_time": "2023-09-16T17:51:40.313Z"
    }
   },
   "outputs": [],
   "source": [
    "og_copy['patents'].describe()"
   ]
  },
  {
   "cell_type": "code",
   "execution_count": null,
   "id": "7ca51c57",
   "metadata": {
    "ExecuteTime": {
     "end_time": "2023-09-16T17:51:42.816563Z",
     "start_time": "2023-09-16T17:51:40.314Z"
    }
   },
   "outputs": [],
   "source": [
    "country_patents = og_copy.groupby('country')['patents'].sum()\n",
    "country_patents = pd.DataFrame(country_patents)\n",
    "country_patents  = country_patents.sort_values('patents',ascending=True)"
   ]
  },
  {
   "cell_type": "code",
   "execution_count": null,
   "id": "f3a25665",
   "metadata": {
    "ExecuteTime": {
     "end_time": "2023-09-16T17:51:42.817525Z",
     "start_time": "2023-09-16T17:51:40.315Z"
    }
   },
   "outputs": [],
   "source": [
    "import random"
   ]
  },
  {
   "cell_type": "code",
   "execution_count": null,
   "id": "a3a89881",
   "metadata": {
    "ExecuteTime": {
     "end_time": "2023-09-16T17:51:42.818524Z",
     "start_time": "2023-09-16T17:51:40.316Z"
    }
   },
   "outputs": [],
   "source": [
    "fig = go.Figure()\n",
    "fig.add_trace(go.Bar(x=country_patents.patents,\n",
    "                     y=country_patents.index, orientation='h',\n",
    "                     width=0.6, text=country_patents.patents, textfont=dict(family='Arial', size=10),\n",
    "                     marker=dict(color=[f'rgb({random.randint(0, 255)},{random.randint(0, 255)},{random.randint(0, 255)})' for _ in range(\n",
    "                         len(country_patents.index))]),\n",
    "                     textposition='outside'))\n",
    "fig.update_layout(\n",
    "    height=1000,\n",
    "    template='plotly',\n",
    "    title={'text': 'PATENTS PER COUNTRY', 'x': 0.5, 'xanchor': 'center'},\n",
    "    xaxis_title='NUMBER OF PATENTS',\n",
    "    yaxis_title='COUNTRIES'\n",
    "\n",
    ")"
   ]
  },
  {
   "cell_type": "markdown",
   "id": "a5d3c2e1",
   "metadata": {},
   "source": [
    "We can see clearly, USA again dominating the most number of patents for a country category."
   ]
  },
  {
   "cell_type": "code",
   "execution_count": null,
   "id": "e4fe6b83",
   "metadata": {},
   "outputs": [],
   "source": []
  },
  {
   "cell_type": "code",
   "execution_count": null,
   "id": "c3267a90",
   "metadata": {},
   "outputs": [],
   "source": []
  },
  {
   "cell_type": "markdown",
   "id": "56fd176c",
   "metadata": {},
   "source": [
    "# Step 4: Ask & answer questions about the data\n",
    "|"
   ]
  },
  {
   "cell_type": "markdown",
   "id": "4344d476",
   "metadata": {},
   "source": [
    "# Step 5: Summarise your inferences & write a conclusion\n"
   ]
  },
  {
   "cell_type": "code",
   "execution_count": null,
   "id": "af97a0e1",
   "metadata": {},
   "outputs": [],
   "source": []
  }
 ],
 "metadata": {
  "kernelspec": {
   "display_name": "Python 3 (ipykernel)",
   "language": "python",
   "name": "python3"
  },
  "language_info": {
   "codemirror_mode": {
    "name": "ipython",
    "version": 3
   },
   "file_extension": ".py",
   "mimetype": "text/x-python",
   "name": "python",
   "nbconvert_exporter": "python",
   "pygments_lexer": "ipython3",
   "version": "3.8.3"
  }
 },
 "nbformat": 4,
 "nbformat_minor": 5
}
