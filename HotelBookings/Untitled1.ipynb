{
 "cells": [
  {
   "cell_type": "code",
   "execution_count": 3,
   "id": "6b2548ce",
   "metadata": {
    "ExecuteTime": {
     "end_time": "2023-07-05T11:57:46.662771Z",
     "start_time": "2023-07-05T11:57:46.649675Z"
    }
   },
   "outputs": [],
   "source": [
    "import pandas as pd\n",
    "import ssl\n",
    "\n",
    "ssl._create_default_https_context = ssl._create_unverified_context"
   ]
  },
  {
   "cell_type": "code",
   "execution_count": 4,
   "id": "4e4bcf09",
   "metadata": {
    "ExecuteTime": {
     "end_time": "2023-07-05T11:57:51.842777Z",
     "start_time": "2023-07-05T11:57:51.153194Z"
    }
   },
   "outputs": [],
   "source": [
    "online_data = pd.read_html(\"https://laendercode.net/en/3-letter-list.html\")"
   ]
  },
  {
   "cell_type": "code",
   "execution_count": 8,
   "id": "040b4642",
   "metadata": {
    "ExecuteTime": {
     "end_time": "2023-07-05T11:58:32.922510Z",
     "start_time": "2023-07-05T11:58:32.913541Z"
    }
   },
   "outputs": [],
   "source": [
    "onlinedata = online_data[0]"
   ]
  },
  {
   "cell_type": "code",
   "execution_count": 9,
   "id": "9ea961d2",
   "metadata": {
    "ExecuteTime": {
     "end_time": "2023-07-05T11:58:37.284614Z",
     "start_time": "2023-07-05T11:58:37.273615Z"
    }
   },
   "outputs": [
    {
     "data": {
      "text/html": [
       "<div>\n",
       "<style scoped>\n",
       "    .dataframe tbody tr th:only-of-type {\n",
       "        vertical-align: middle;\n",
       "    }\n",
       "\n",
       "    .dataframe tbody tr th {\n",
       "        vertical-align: top;\n",
       "    }\n",
       "\n",
       "    .dataframe thead th {\n",
       "        text-align: right;\n",
       "    }\n",
       "</style>\n",
       "<table border=\"1\" class=\"dataframe\">\n",
       "  <thead>\n",
       "    <tr style=\"text-align: right;\">\n",
       "      <th></th>\n",
       "      <th>ISO 3166 ALPHA-3</th>\n",
       "      <th>Country</th>\n",
       "    </tr>\n",
       "  </thead>\n",
       "  <tbody>\n",
       "    <tr>\n",
       "      <th>0</th>\n",
       "      <td>AFG</td>\n",
       "      <td>Afghanistan</td>\n",
       "    </tr>\n",
       "    <tr>\n",
       "      <th>1</th>\n",
       "      <td>ALA</td>\n",
       "      <td>Aland Islands</td>\n",
       "    </tr>\n",
       "    <tr>\n",
       "      <th>2</th>\n",
       "      <td>ALB</td>\n",
       "      <td>Albania</td>\n",
       "    </tr>\n",
       "    <tr>\n",
       "      <th>3</th>\n",
       "      <td>DZA</td>\n",
       "      <td>Algeria</td>\n",
       "    </tr>\n",
       "    <tr>\n",
       "      <th>4</th>\n",
       "      <td>ASM</td>\n",
       "      <td>American Samoa</td>\n",
       "    </tr>\n",
       "    <tr>\n",
       "      <th>...</th>\n",
       "      <td>...</td>\n",
       "      <td>...</td>\n",
       "    </tr>\n",
       "    <tr>\n",
       "      <th>247</th>\n",
       "      <td>WLF</td>\n",
       "      <td>Wallis and Futuna</td>\n",
       "    </tr>\n",
       "    <tr>\n",
       "      <th>248</th>\n",
       "      <td>ESH</td>\n",
       "      <td>Western Sahara</td>\n",
       "    </tr>\n",
       "    <tr>\n",
       "      <th>249</th>\n",
       "      <td>YEM</td>\n",
       "      <td>Yemen</td>\n",
       "    </tr>\n",
       "    <tr>\n",
       "      <th>250</th>\n",
       "      <td>ZMB</td>\n",
       "      <td>Zambia</td>\n",
       "    </tr>\n",
       "    <tr>\n",
       "      <th>251</th>\n",
       "      <td>ZWE</td>\n",
       "      <td>Zimbabwe</td>\n",
       "    </tr>\n",
       "  </tbody>\n",
       "</table>\n",
       "<p>252 rows × 2 columns</p>\n",
       "</div>"
      ],
      "text/plain": [
       "    ISO 3166 ALPHA-3            Country\n",
       "0                AFG        Afghanistan\n",
       "1                ALA      Aland Islands\n",
       "2                ALB            Albania\n",
       "3                DZA            Algeria\n",
       "4                ASM     American Samoa\n",
       "..               ...                ...\n",
       "247              WLF  Wallis and Futuna\n",
       "248              ESH     Western Sahara\n",
       "249              YEM              Yemen\n",
       "250              ZMB             Zambia\n",
       "251              ZWE           Zimbabwe\n",
       "\n",
       "[252 rows x 2 columns]"
      ]
     },
     "execution_count": 9,
     "metadata": {},
     "output_type": "execute_result"
    }
   ],
   "source": [
    "onlinedata"
   ]
  },
  {
   "cell_type": "code",
   "execution_count": 89,
   "id": "779b8f94",
   "metadata": {
    "ExecuteTime": {
     "end_time": "2023-07-05T12:52:13.860121Z",
     "start_time": "2023-07-05T12:52:13.844967Z"
    }
   },
   "outputs": [
    {
     "data": {
      "text/html": [
       "<div>\n",
       "<style scoped>\n",
       "    .dataframe tbody tr th:only-of-type {\n",
       "        vertical-align: middle;\n",
       "    }\n",
       "\n",
       "    .dataframe tbody tr th {\n",
       "        vertical-align: top;\n",
       "    }\n",
       "\n",
       "    .dataframe thead th {\n",
       "        text-align: right;\n",
       "    }\n",
       "</style>\n",
       "<table border=\"1\" class=\"dataframe\">\n",
       "  <thead>\n",
       "    <tr style=\"text-align: right;\">\n",
       "      <th></th>\n",
       "      <th>ISO 3166 ALPHA-3</th>\n",
       "      <th>Country</th>\n",
       "      <th>Merged</th>\n",
       "    </tr>\n",
       "  </thead>\n",
       "  <tbody>\n",
       "    <tr>\n",
       "      <th>0</th>\n",
       "      <td>AFG</td>\n",
       "      <td>Afghanistan</td>\n",
       "      <td>AFG:Afghanistan</td>\n",
       "    </tr>\n",
       "    <tr>\n",
       "      <th>1</th>\n",
       "      <td>ALA</td>\n",
       "      <td>Aland Islands</td>\n",
       "      <td>ALA:Aland Islands</td>\n",
       "    </tr>\n",
       "    <tr>\n",
       "      <th>2</th>\n",
       "      <td>ALB</td>\n",
       "      <td>Albania</td>\n",
       "      <td>ALB:Albania</td>\n",
       "    </tr>\n",
       "    <tr>\n",
       "      <th>3</th>\n",
       "      <td>DZA</td>\n",
       "      <td>Algeria</td>\n",
       "      <td>DZA:Algeria</td>\n",
       "    </tr>\n",
       "    <tr>\n",
       "      <th>4</th>\n",
       "      <td>ASM</td>\n",
       "      <td>American Samoa</td>\n",
       "      <td>ASM:American Samoa</td>\n",
       "    </tr>\n",
       "    <tr>\n",
       "      <th>...</th>\n",
       "      <td>...</td>\n",
       "      <td>...</td>\n",
       "      <td>...</td>\n",
       "    </tr>\n",
       "    <tr>\n",
       "      <th>247</th>\n",
       "      <td>WLF</td>\n",
       "      <td>Wallis and Futuna</td>\n",
       "      <td>WLF:Wallis and Futuna</td>\n",
       "    </tr>\n",
       "    <tr>\n",
       "      <th>248</th>\n",
       "      <td>ESH</td>\n",
       "      <td>Western Sahara</td>\n",
       "      <td>ESH:Western Sahara</td>\n",
       "    </tr>\n",
       "    <tr>\n",
       "      <th>249</th>\n",
       "      <td>YEM</td>\n",
       "      <td>Yemen</td>\n",
       "      <td>YEM:Yemen</td>\n",
       "    </tr>\n",
       "    <tr>\n",
       "      <th>250</th>\n",
       "      <td>ZMB</td>\n",
       "      <td>Zambia</td>\n",
       "      <td>ZMB:Zambia</td>\n",
       "    </tr>\n",
       "    <tr>\n",
       "      <th>251</th>\n",
       "      <td>ZWE</td>\n",
       "      <td>Zimbabwe</td>\n",
       "      <td>ZWE:Zimbabwe</td>\n",
       "    </tr>\n",
       "  </tbody>\n",
       "</table>\n",
       "<p>252 rows × 3 columns</p>\n",
       "</div>"
      ],
      "text/plain": [
       "    ISO 3166 ALPHA-3            Country                 Merged\n",
       "0                AFG        Afghanistan        AFG:Afghanistan\n",
       "1                ALA      Aland Islands      ALA:Aland Islands\n",
       "2                ALB            Albania            ALB:Albania\n",
       "3                DZA            Algeria            DZA:Algeria\n",
       "4                ASM     American Samoa     ASM:American Samoa\n",
       "..               ...                ...                    ...\n",
       "247              WLF  Wallis and Futuna  WLF:Wallis and Futuna\n",
       "248              ESH     Western Sahara     ESH:Western Sahara\n",
       "249              YEM              Yemen              YEM:Yemen\n",
       "250              ZMB             Zambia             ZMB:Zambia\n",
       "251              ZWE           Zimbabwe           ZWE:Zimbabwe\n",
       "\n",
       "[252 rows x 3 columns]"
      ]
     },
     "execution_count": 89,
     "metadata": {},
     "output_type": "execute_result"
    }
   ],
   "source": [
    "onlinedata['Merged'] =  onlinedata.apply(lambda row: row['ISO 3166 ALPHA-3'] + ':' + row['Country'], axis=1)\n",
    "onlinedata"
   ]
  },
  {
   "cell_type": "code",
   "execution_count": 11,
   "id": "66764fc8",
   "metadata": {
    "ExecuteTime": {
     "end_time": "2023-07-05T12:00:25.576264Z",
     "start_time": "2023-07-05T12:00:25.554211Z"
    }
   },
   "outputs": [
    {
     "name": "stdout",
     "output_type": "stream",
     "text": [
      "  Column1 Column2  Merged_Column\n",
      "0  Value1  Value4  Value1:Value4\n",
      "1  Value2  Value5  Value2:Value5\n",
      "2  Value3  Value6  Value3:Value6\n"
     ]
    }
   ],
   "source": [
    "import pandas as pd\n",
    "\n",
    "# Create a sample dataframe\n",
    "df = pd.DataFrame({'Column1': ['Value1', 'Value2', 'Value3'],\n",
    "                   'Column2': ['Value4', 'Value5', 'Value6']})\n",
    "\n",
    "# Merge the values of Column1 and Column2 into a new column, separated by \":\"\n",
    "df['Merged_Column'] = df.apply(lambda row: row['Column1'] + ':' + row['Column2'], axis=1)\n",
    "\n",
    "# Print the updated dataframe\n",
    "print(df)\n"
   ]
  },
  {
   "cell_type": "code",
   "execution_count": 90,
   "id": "c9d1e52b",
   "metadata": {
    "ExecuteTime": {
     "end_time": "2023-07-05T12:52:17.064859Z",
     "start_time": "2023-07-05T12:52:17.047190Z"
    }
   },
   "outputs": [],
   "source": [
    "merge_dict = dict(zip(onlinedata.index, onlinedata['Merged']))"
   ]
  },
  {
   "cell_type": "code",
   "execution_count": 97,
   "id": "9dcf35c9",
   "metadata": {
    "ExecuteTime": {
     "end_time": "2023-07-05T12:53:06.752292Z",
     "start_time": "2023-07-05T12:53:06.733301Z"
    }
   },
   "outputs": [
    {
     "data": {
      "text/plain": [
       "dict_values([['AFG', 'Afghanistan'], ['ALA', 'Aland Islands'], ['ALB', 'Albania'], ['DZA', 'Algeria'], ['ASM', 'American Samoa'], ['AND', 'Andorra'], ['AGO', 'Angola'], ['AIA', 'Anguilla'], ['ATA', 'Antarctica'], ['ATG', 'Antigua and Barbuda'], ['ARG', 'Argentina'], ['ARM', 'Armenia'], ['ABW', 'Aruba'], ['AUS', 'Australia'], ['AUT', 'Austria'], ['AZE', 'Azerbaijan'], ['BHS', 'Bahamas'], ['BHR', 'Bahrain'], ['BGD', 'Bangladesh'], ['BRB', 'Barbados'], ['BLR', 'Belarus'], ['BEL', 'Belgium'], ['BLZ', 'Belize'], ['BEN', 'Benin'], ['BMU', 'Bermuda'], ['BTN', 'Bhutan'], ['BOL', 'Bolivia'], ['BES', 'Bonaire, Saint Eustatius and Saba'], ['BIH', 'Bosnia and Herzegovina'], ['BWA', 'Botswana'], ['BVT', 'Bouvet Island'], ['BRA', 'Brazil'], ['IOT', 'British Indian Ocean Territory'], ['VGB', 'British Virgin Islands'], ['BRN', 'Brunei'], ['BGR', 'Bulgaria'], ['BFA', 'Burkina Faso'], ['BDI', 'Burundi'], ['KHM', 'Cambodia'], ['CMR', 'Cameroon'], ['CAN', 'Canada'], ['CPV', 'Cape Verde'], ['CYM', 'Cayman Islands'], ['CAF', 'Central African Republic'], ['TCD', 'Chad'], ['CHL', 'Chile'], ['CHN', 'China'], ['CXR', 'Christmas Island'], ['CCK', 'Cocos Islands'], ['COL', 'Colombia'], ['COM', 'Comoros'], ['COK', 'Cook Islands'], ['CRI', 'Costa Rica'], ['HRV', 'Croatia'], ['CUB', 'Cuba'], ['CUW', 'Curacao'], ['CYP', 'Cyprus'], ['CZE', 'Czech Republic'], ['COD', 'Democratic Republic of the Congo'], ['DNK', 'Denmark'], ['DJI', 'Djibouti'], ['DMA', 'Dominica'], ['DOM', 'Dominican Republic'], ['TLS', 'East Timor'], ['ECU', 'Ecuador'], ['EGY', 'Egypt'], ['SLV', 'El Salvador'], ['GNQ', 'Equatorial Guinea'], ['ERI', 'Eritrea'], ['EST', 'Estonia'], ['ETH', 'Ethiopia'], ['FLK', 'Falkland Islands'], ['FRO', 'Faroe Islands'], ['FJI', 'Fiji'], ['FIN', 'Finland'], ['FRA', 'France'], ['GUF', 'French Guiana'], ['PYF', 'French Polynesia'], ['ATF', 'French Southern Territories'], ['GAB', 'Gabon'], ['GMB', 'Gambia'], ['GEO', 'Georgia'], ['DEU', 'Germany'], ['GHA', 'Ghana'], ['GIB', 'Gibraltar'], ['GRC', 'Greece'], ['GRL', 'Greenland'], ['GRD', 'Grenada'], ['GLP', 'Guadeloupe'], ['GUM', 'Guam'], ['GTM', 'Guatemala'], ['GGY', 'Guernsey'], ['GIN', 'Guinea'], ['GNB', 'Guinea-Bissau'], ['GUY', 'Guyana'], ['HTI', 'Haiti'], ['HMD', 'Heard Island and McDonald Islands'], ['HND', 'Honduras'], ['HKG', 'Hong Kong'], ['HUN', 'Hungary'], ['ISL', 'Iceland'], ['IND', 'India'], ['IDN', 'Indonesia'], ['IRN', 'Iran'], ['IRQ', 'Iraq'], ['IRL', 'Ireland'], ['IMN', 'Isle of Man'], ['ISR', 'Israel'], ['ITA', 'Italy'], ['CIV', 'Ivory Coast'], ['JAM', 'Jamaica'], ['JPN', 'Japan'], ['JEY', 'Jersey'], ['JOR', 'Jordan'], ['KAZ', 'Kazakhstan'], ['KEN', 'Kenya'], ['KIR', 'Kiribati'], ['XXK', 'Kosovo'], ['KWT', 'Kuwait'], ['KGZ', 'Kyrgyzstan'], ['LAO', 'Laos'], ['LVA', 'Latvia'], ['LBN', 'Lebanon'], ['LSO', 'Lesotho'], ['LBR', 'Liberia'], ['LBY', 'Libya'], ['LIE', 'Liechtenstein'], ['LTU', 'Lithuania'], ['LUX', 'Luxembourg'], ['MAC', 'Macao'], ['MKD', 'Macedonia'], ['MDG', 'Madagascar'], ['MWI', 'Malawi'], ['MYS', 'Malaysia'], ['MDV', 'Maldives'], ['MLI', 'Mali'], ['MLT', 'Malta'], ['MHL', 'Marshall Islands'], ['MTQ', 'Martinique'], ['MRT', 'Mauritania'], ['MUS', 'Mauritius'], ['MYT', 'Mayotte'], ['MEX', 'Mexico'], ['FSM', 'Micronesia'], ['MDA', 'Moldova'], ['MCO', 'Monaco'], ['MNG', 'Mongolia'], ['MNE', 'Montenegro'], ['MSR', 'Montserrat'], ['MAR', 'Morocco'], ['MOZ', 'Mozambique'], ['MMR', 'Myanmar'], ['NAM', 'Namibia'], ['NRU', 'Nauru'], ['NPL', 'Nepal'], ['NLD', 'Netherlands'], ['ANT', 'Netherlands Antilles'], ['NCL', 'New Caledonia'], ['NZL', 'New Zealand'], ['NIC', 'Nicaragua'], ['NER', 'Niger'], ['NGA', 'Nigeria'], ['NIU', 'Niue'], ['NFK', 'Norfolk Island'], ['PRK', 'North Korea'], ['MNP', 'Northern Mariana Islands'], ['NOR', 'Norway'], ['OMN', 'Oman'], ['PAK', 'Pakistan'], ['PLW', 'Palau'], ['PSE', 'Palestinian Territory'], ['PAN', 'Panama'], ['PNG', 'Papua New Guinea'], ['PRY', 'Paraguay'], ['PER', 'Peru'], ['PHL', 'Philippines'], ['PCN', 'Pitcairn'], ['POL', 'Poland'], ['PRT', 'Portugal'], ['PRI', 'Puerto Rico'], ['QAT', 'Qatar'], ['COG', 'Republic of the Congo'], ['REU', 'Reunion'], ['ROU', 'Romania'], ['RUS', 'Russia'], ['RWA', 'Rwanda'], ['BLM', 'Saint Barthelemy'], ['SHN', 'Saint Helena'], ['KNA', 'Saint Kitts and Nevis'], ['LCA', 'Saint Lucia'], ['MAF', 'Saint Martin'], ['SPM', 'Saint Pierre and Miquelon'], ['VCT', 'Saint Vincent and the Grenadines'], ['WSM', 'Samoa'], ['SMR', 'San Marino'], ['STP', 'Sao Tome and Principe'], ['SAU', 'Saudi Arabia'], ['SEN', 'Senegal'], ['SRB', 'Serbia'], ['SCG', 'Serbia and Montenegro'], ['SYC', 'Seychelles'], ['SLE', 'Sierra Leone'], ['SGP', 'Singapore'], ['SXM', 'Sint Maarten'], ['SVK', 'Slovakia'], ['SVN', 'Slovenia'], ['SLB', 'Solomon Islands'], ['SOM', 'Somalia'], ['ZAF', 'South Africa'], ['SGS', 'South Georgia and the South Sandwich Islands'], ['KOR', 'South Korea'], ['SSD', 'South Sudan'], ['ESP', 'Spain'], ['LKA', 'Sri Lanka'], ['SDN', 'Sudan'], ['SUR', 'Suriname'], ['SJM', 'Svalbard and Jan Mayen'], ['SWZ', 'Swaziland'], ['SWE', 'Sweden'], ['CHE', 'Switzerland'], ['SYR', 'Syria'], ['TWN', 'Taiwan'], ['TJK', 'Tajikistan'], ['TZA', 'Tanzania'], ['THA', 'Thailand'], ['TGO', 'Togo'], ['TKL', 'Tokelau'], ['TON', 'Tonga'], ['TTO', 'Trinidad and Tobago'], ['TUN', 'Tunisia'], ['TUR', 'Turkey'], ['TKM', 'Turkmenistan'], ['TCA', 'Turks and Caicos Islands'], ['TUV', 'Tuvalu'], ['VIR', 'U.S. Virgin Islands'], ['UGA', 'Uganda'], ['UKR', 'Ukraine'], ['ARE', 'United Arab Emirates'], ['GBR', 'United Kingdom'], ['USA', 'United States'], ['UMI', 'United States Minor Outlying Islands'], ['URY', 'Uruguay'], ['UZB', 'Uzbekistan'], ['VUT', 'Vanuatu'], ['VAT', 'Vatican'], ['VEN', 'Venezuela'], ['VNM', 'Vietnam'], ['WLF', 'Wallis and Futuna'], ['ESH', 'Western Sahara'], ['YEM', 'Yemen'], ['ZMB', 'Zambia'], ['ZWE', 'Zimbabwe']])"
      ]
     },
     "execution_count": 97,
     "metadata": {},
     "output_type": "execute_result"
    }
   ],
   "source": [
    "merge_dict.values()"
   ]
  },
  {
   "cell_type": "code",
   "execution_count": 95,
   "id": "75ebc0bb",
   "metadata": {
    "ExecuteTime": {
     "end_time": "2023-07-05T12:52:55.717129Z",
     "start_time": "2023-07-05T12:52:55.709618Z"
    }
   },
   "outputs": [],
   "source": [
    "for i in range(0,len(merge_dict)):\n",
    "    merge_dict[i] = merge_dict[i].split(':')\n",
    "    \n"
   ]
  },
  {
   "cell_type": "code",
   "execution_count": 62,
   "id": "11f1b62d",
   "metadata": {
    "ExecuteTime": {
     "end_time": "2023-07-05T12:25:43.684395Z",
     "start_time": "2023-07-05T12:25:43.674382Z"
    }
   },
   "outputs": [],
   "source": [
    "ind = 'ALA '\n",
    "for i in merge_dict:\n",
    "    if merge_dict[i][0] == ind:\n",
    "        ind = merge_dict[i][1]"
   ]
  },
  {
   "cell_type": "code",
   "execution_count": 63,
   "id": "bca344db",
   "metadata": {
    "ExecuteTime": {
     "end_time": "2023-07-05T12:25:44.107022Z",
     "start_time": "2023-07-05T12:25:44.098022Z"
    }
   },
   "outputs": [
    {
     "data": {
      "text/plain": [
       "' Aland Islands'"
      ]
     },
     "execution_count": 63,
     "metadata": {},
     "output_type": "execute_result"
    }
   ],
   "source": [
    "ind"
   ]
  },
  {
   "cell_type": "code",
   "execution_count": 82,
   "id": "2f86232d",
   "metadata": {
    "ExecuteTime": {
     "end_time": "2023-07-05T12:31:56.021703Z",
     "start_time": "2023-07-05T12:31:55.995902Z"
    }
   },
   "outputs": [],
   "source": [
    "names = ['PRT',\n",
    "         'GBR',\n",
    "         'FRA',\n",
    "         'ESP',\n",
    "         'DEU',\n",
    "         'ITA',\n",
    "         'IRL',\n",
    "         'BEL',\n",
    "         'BRA',\n",
    "         'NLD',\n",
    "         'USA',\n",
    "         'CHE',\n",
    "         'CN',\n",
    "         'AUT',\n",
    "         'SWE',\n",
    "         'CHN',\n",
    "         'POL',\n",
    "         'ISR',\n",
    "         'RUS',\n",
    "         'NOR',\n",
    "         'ROU',\n",
    "         'FIN',\n",
    "         'DNK',\n",
    "         'AUS',\n",
    "         'AGO',\n",
    "         'LUX',\n",
    "         'MAR',\n",
    "         'TUR',\n",
    "         'HUN',\n",
    "         'ARG',\n",
    "         'JPN',\n",
    "         'CZE',\n",
    "         'IND',\n",
    "         'KOR',\n",
    "         'GRC',\n",
    "         'DZA',\n",
    "         'SRB',\n",
    "         'HRV',\n",
    "         'MEX',\n",
    "         'EST',\n",
    "         'IRN',\n",
    "         'LTU',\n",
    "         'ZAF',\n",
    "         'BGR',\n",
    "         'NZL',\n",
    "         'COL',\n",
    "         'UKR',\n",
    "         'MOZ',\n",
    "         'CHL',\n",
    "         'SVK',\n",
    "         'THA',\n",
    "         'SVN',\n",
    "         'ISL',\n",
    "         'LVA',\n",
    "         'ARE',\n",
    "         'CYP',\n",
    "         'TWN',\n",
    "         'SAU',\n",
    "         'PHL',\n",
    "         'TUN',\n",
    "         'SGP',\n",
    "         'IDN',\n",
    "         'NGA',\n",
    "         'EGY',\n",
    "         'URY',\n",
    "         'LBN',\n",
    "         'PER',\n",
    "         'HKG',\n",
    "         'MYS',\n",
    "         'ECU',\n",
    "         'BLR',\n",
    "         'VEN',\n",
    "         'CPV',\n",
    "         'GEO',\n",
    "         'JOR',\n",
    "         'KAZ',\n",
    "         'CRI',\n",
    "         'MLT',\n",
    "         'OMN',\n",
    "         'GIB',\n",
    "         'AZE',\n",
    "         'KWT',\n",
    "         'MAC',\n",
    "         'QAT',\n",
    "         'IRQ',\n",
    "         'DOM',\n",
    "         'PAK',\n",
    "         'BIH',\n",
    "         'ALB',\n",
    "         'PRI',\n",
    "         'MDV',\n",
    "         'BGD',\n",
    "         'SEN',\n",
    "         'CMR',\n",
    "         'MKD',\n",
    "         'BOL',\n",
    "         'PAN',\n",
    "         'GNB',\n",
    "         'TJK',\n",
    "         'JEY',\n",
    "         'LBY',\n",
    "         'ARM',\n",
    "         'CUB',\n",
    "         'VNM',\n",
    "         'AND',\n",
    "         'MUS',\n",
    "         'LKA',\n",
    "         'CIV',\n",
    "         'JAM',\n",
    "         'KEN',\n",
    "         'BHR',\n",
    "         'SUR',\n",
    "         'CAF',\n",
    "         'TZA',\n",
    "         'MNE',\n",
    "         'FRO',\n",
    "         'PRY',\n",
    "         'BRB',\n",
    "         'GTM',\n",
    "         'UZB',\n",
    "         'MCO',\n",
    "         'GAB',\n",
    "         'GHA',\n",
    "         'ZWE',\n",
    "         'GGY',\n",
    "         'BEN',\n",
    "         'SYR',\n",
    "         'TMP',\n",
    "         'LIE',\n",
    "         'ETH',\n",
    "         'MWI',\n",
    "         'SYC',\n",
    "         'RWA',\n",
    "         'KNA',\n",
    "         'UGA',\n",
    "         'TGO',\n",
    "         'COM',\n",
    "         'IMN',\n",
    "         'ABW',\n",
    "         'ZMB',\n",
    "         'LAO',\n",
    "         'KHM',\n",
    "         'MYT',\n",
    "         'ATA',\n",
    "         'SLV',\n",
    "         'GLP',\n",
    "         'STP',\n",
    "         'BHS',\n",
    "         'CYM',\n",
    "         'BFA',\n",
    "         'MDG',\n",
    "         'MMR',\n",
    "         'NPL',\n",
    "         'DJI',\n",
    "         'UMI',\n",
    "         'SMR',\n",
    "         'PLW',\n",
    "         'BWA',\n",
    "         'HND',\n",
    "         'VGB',\n",
    "         'MLI',\n",
    "         'SLE',\n",
    "         'BDI',\n",
    "         'NIC',\n",
    "         'MRT',\n",
    "         'DMA',\n",
    "         'PYF',\n",
    "         'GUY',\n",
    "         'LCA',\n",
    "         'ATF',\n",
    "         'FJI',\n",
    "         'ASM',\n",
    "         'AIA',\n",
    "         'NCL',\n",
    "         'SDN',\n",
    "         'KIR',\n",
    "         'NAM']\n",
    "fullNames = []"
   ]
  },
  {
   "cell_type": "code",
   "execution_count": 83,
   "id": "015e2d48",
   "metadata": {
    "ExecuteTime": {
     "end_time": "2023-07-05T12:31:57.163666Z",
     "start_time": "2023-07-05T12:31:57.145611Z"
    }
   },
   "outputs": [],
   "source": [
    "for i in names:\n",
    "    for j in merge_dict:\n",
    "        if i == merge_dict[j][0]:\n",
    "            fullNames.append(merge_dict[j][1])"
   ]
  },
  {
   "cell_type": "code",
   "execution_count": 84,
   "id": "7c9a7c65",
   "metadata": {
    "ExecuteTime": {
     "end_time": "2023-07-05T12:31:57.866629Z",
     "start_time": "2023-07-05T12:31:57.850100Z"
    }
   },
   "outputs": [
    {
     "data": {
      "text/plain": [
       "['Portugal',\n",
       " 'United Kingdom',\n",
       " 'France',\n",
       " 'Spain',\n",
       " 'Germany',\n",
       " 'Italy',\n",
       " 'Ireland',\n",
       " 'Belgium',\n",
       " 'Brazil',\n",
       " 'Netherlands',\n",
       " 'United States',\n",
       " 'Switzerland',\n",
       " 'Austria',\n",
       " 'Sweden',\n",
       " 'China',\n",
       " 'Poland',\n",
       " 'Israel',\n",
       " 'Russia',\n",
       " 'Norway',\n",
       " 'Romania',\n",
       " 'Finland',\n",
       " 'Denmark',\n",
       " 'Australia',\n",
       " 'Angola',\n",
       " 'Luxembourg',\n",
       " 'Morocco',\n",
       " 'Turkey',\n",
       " 'Hungary',\n",
       " 'Argentina',\n",
       " 'Japan',\n",
       " 'Czech Republic',\n",
       " 'India',\n",
       " 'South Korea',\n",
       " 'Greece',\n",
       " 'Algeria',\n",
       " 'Serbia',\n",
       " 'Croatia',\n",
       " 'Mexico',\n",
       " 'Estonia',\n",
       " 'Iran',\n",
       " 'Lithuania',\n",
       " 'South Africa',\n",
       " 'Bulgaria',\n",
       " 'New Zealand',\n",
       " 'Colombia',\n",
       " 'Ukraine',\n",
       " 'Mozambique',\n",
       " 'Chile',\n",
       " 'Slovakia',\n",
       " 'Thailand',\n",
       " 'Slovenia',\n",
       " 'Iceland',\n",
       " 'Latvia',\n",
       " 'United Arab Emirates',\n",
       " 'Cyprus',\n",
       " 'Taiwan',\n",
       " 'Saudi Arabia',\n",
       " 'Philippines',\n",
       " 'Tunisia',\n",
       " 'Singapore',\n",
       " 'Indonesia',\n",
       " 'Nigeria',\n",
       " 'Egypt',\n",
       " 'Uruguay',\n",
       " 'Lebanon',\n",
       " 'Peru',\n",
       " 'Hong Kong',\n",
       " 'Malaysia',\n",
       " 'Ecuador',\n",
       " 'Belarus',\n",
       " 'Venezuela',\n",
       " 'Cape Verde',\n",
       " 'Georgia',\n",
       " 'Jordan',\n",
       " 'Kazakhstan',\n",
       " 'Costa Rica',\n",
       " 'Malta',\n",
       " 'Oman',\n",
       " 'Gibraltar',\n",
       " 'Azerbaijan',\n",
       " 'Kuwait',\n",
       " 'Macao',\n",
       " 'Qatar',\n",
       " 'Iraq',\n",
       " 'Dominican Republic',\n",
       " 'Pakistan',\n",
       " 'Bosnia and Herzegovina',\n",
       " 'Albania',\n",
       " 'Puerto Rico',\n",
       " 'Maldives',\n",
       " 'Bangladesh',\n",
       " 'Senegal',\n",
       " 'Cameroon',\n",
       " 'Macedonia',\n",
       " 'Bolivia',\n",
       " 'Panama',\n",
       " 'Guinea-Bissau',\n",
       " 'Tajikistan',\n",
       " 'Jersey',\n",
       " 'Libya',\n",
       " 'Armenia',\n",
       " 'Cuba',\n",
       " 'Vietnam',\n",
       " 'Andorra',\n",
       " 'Mauritius',\n",
       " 'Sri Lanka',\n",
       " 'Ivory Coast',\n",
       " 'Jamaica',\n",
       " 'Kenya',\n",
       " 'Bahrain',\n",
       " 'Suriname',\n",
       " 'Central African Republic',\n",
       " 'Tanzania',\n",
       " 'Montenegro',\n",
       " 'Faroe Islands',\n",
       " 'Paraguay',\n",
       " 'Barbados',\n",
       " 'Guatemala',\n",
       " 'Uzbekistan',\n",
       " 'Monaco',\n",
       " 'Gabon',\n",
       " 'Ghana',\n",
       " 'Zimbabwe',\n",
       " 'Guernsey',\n",
       " 'Benin',\n",
       " 'Syria',\n",
       " 'Liechtenstein',\n",
       " 'Ethiopia',\n",
       " 'Malawi',\n",
       " 'Seychelles',\n",
       " 'Rwanda',\n",
       " 'Saint Kitts and Nevis',\n",
       " 'Uganda',\n",
       " 'Togo',\n",
       " 'Comoros',\n",
       " 'Isle of Man',\n",
       " 'Aruba',\n",
       " 'Zambia',\n",
       " 'Laos',\n",
       " 'Cambodia',\n",
       " 'Mayotte',\n",
       " 'Antarctica',\n",
       " 'El Salvador',\n",
       " 'Guadeloupe',\n",
       " 'Sao Tome and Principe',\n",
       " 'Bahamas',\n",
       " 'Cayman Islands',\n",
       " 'Burkina Faso',\n",
       " 'Madagascar',\n",
       " 'Myanmar',\n",
       " 'Nepal',\n",
       " 'Djibouti',\n",
       " 'United States Minor Outlying Islands',\n",
       " 'San Marino',\n",
       " 'Palau',\n",
       " 'Botswana',\n",
       " 'Honduras',\n",
       " 'British Virgin Islands',\n",
       " 'Mali',\n",
       " 'Sierra Leone',\n",
       " 'Burundi',\n",
       " 'Nicaragua',\n",
       " 'Mauritania',\n",
       " 'Dominica',\n",
       " 'French Polynesia',\n",
       " 'Guyana',\n",
       " 'Saint Lucia',\n",
       " 'French Southern Territories',\n",
       " 'Fiji',\n",
       " 'American Samoa',\n",
       " 'Anguilla',\n",
       " 'New Caledonia',\n",
       " 'Sudan',\n",
       " 'Kiribati',\n",
       " 'Namibia']"
      ]
     },
     "execution_count": 84,
     "metadata": {},
     "output_type": "execute_result"
    }
   ],
   "source": [
    "fullNames"
   ]
  },
  {
   "cell_type": "code",
   "execution_count": 85,
   "id": "7fa078e3",
   "metadata": {
    "ExecuteTime": {
     "end_time": "2023-07-05T12:32:22.272897Z",
     "start_time": "2023-07-05T12:32:22.259363Z"
    }
   },
   "outputs": [],
   "source": [
    "df = {'FullNames' : fullNames}"
   ]
  },
  {
   "cell_type": "code",
   "execution_count": 87,
   "id": "e87801b9",
   "metadata": {
    "ExecuteTime": {
     "end_time": "2023-07-05T12:32:35.545531Z",
     "start_time": "2023-07-05T12:32:35.537504Z"
    }
   },
   "outputs": [],
   "source": [
    "data = pd.DataFrame(df)"
   ]
  },
  {
   "cell_type": "code",
   "execution_count": 88,
   "id": "2d761f2e",
   "metadata": {
    "ExecuteTime": {
     "end_time": "2023-07-05T12:32:37.138615Z",
     "start_time": "2023-07-05T12:32:37.130010Z"
    }
   },
   "outputs": [
    {
     "data": {
      "text/html": [
       "<div>\n",
       "<style scoped>\n",
       "    .dataframe tbody tr th:only-of-type {\n",
       "        vertical-align: middle;\n",
       "    }\n",
       "\n",
       "    .dataframe tbody tr th {\n",
       "        vertical-align: top;\n",
       "    }\n",
       "\n",
       "    .dataframe thead th {\n",
       "        text-align: right;\n",
       "    }\n",
       "</style>\n",
       "<table border=\"1\" class=\"dataframe\">\n",
       "  <thead>\n",
       "    <tr style=\"text-align: right;\">\n",
       "      <th></th>\n",
       "      <th>FullNames</th>\n",
       "    </tr>\n",
       "  </thead>\n",
       "  <tbody>\n",
       "    <tr>\n",
       "      <th>0</th>\n",
       "      <td>Portugal</td>\n",
       "    </tr>\n",
       "    <tr>\n",
       "      <th>1</th>\n",
       "      <td>United Kingdom</td>\n",
       "    </tr>\n",
       "    <tr>\n",
       "      <th>2</th>\n",
       "      <td>France</td>\n",
       "    </tr>\n",
       "    <tr>\n",
       "      <th>3</th>\n",
       "      <td>Spain</td>\n",
       "    </tr>\n",
       "    <tr>\n",
       "      <th>4</th>\n",
       "      <td>Germany</td>\n",
       "    </tr>\n",
       "    <tr>\n",
       "      <th>...</th>\n",
       "      <td>...</td>\n",
       "    </tr>\n",
       "    <tr>\n",
       "      <th>170</th>\n",
       "      <td>Anguilla</td>\n",
       "    </tr>\n",
       "    <tr>\n",
       "      <th>171</th>\n",
       "      <td>New Caledonia</td>\n",
       "    </tr>\n",
       "    <tr>\n",
       "      <th>172</th>\n",
       "      <td>Sudan</td>\n",
       "    </tr>\n",
       "    <tr>\n",
       "      <th>173</th>\n",
       "      <td>Kiribati</td>\n",
       "    </tr>\n",
       "    <tr>\n",
       "      <th>174</th>\n",
       "      <td>Namibia</td>\n",
       "    </tr>\n",
       "  </tbody>\n",
       "</table>\n",
       "<p>175 rows × 1 columns</p>\n",
       "</div>"
      ],
      "text/plain": [
       "          FullNames\n",
       "0          Portugal\n",
       "1    United Kingdom\n",
       "2            France\n",
       "3             Spain\n",
       "4           Germany\n",
       "..              ...\n",
       "170        Anguilla\n",
       "171   New Caledonia\n",
       "172           Sudan\n",
       "173        Kiribati\n",
       "174         Namibia\n",
       "\n",
       "[175 rows x 1 columns]"
      ]
     },
     "execution_count": 88,
     "metadata": {},
     "output_type": "execute_result"
    }
   ],
   "source": [
    "data"
   ]
  },
  {
   "cell_type": "markdown",
   "id": "0da0c987",
   "metadata": {
    "ExecuteTime": {
     "end_time": "2023-07-05T13:43:35.496723Z",
     "start_time": "2023-07-05T13:43:35.478212Z"
    }
   },
   "source": [
    "'aggrnyl', 'agsunset', 'algae', 'amp', 'armyrose', 'balance',\n",
    "             'blackbody', 'bluered', 'blues', 'blugrn', 'bluyl', 'brbg',\n",
    "             'brwnyl', 'bugn', 'bupu', 'burg', 'burgyl', 'cividis', 'curl',\n",
    "             'darkmint', 'deep', 'delta', 'dense', 'earth', 'edge', 'electric',\n",
    "             'emrld', 'fall', 'geyser', 'gnbu', 'gray', 'greens', 'greys',\n",
    "             'haline', 'hot', 'hsv', 'ice', 'icefire', 'inferno', 'jet',\n",
    "             'magenta', 'magma', 'matter', 'mint', 'mrybm', 'mygbm', 'oranges',\n",
    "             'orrd', 'oryel', 'oxy', 'peach', 'phase', 'picnic', 'pinkyl',\n",
    "             'piyg', 'plasma', 'plotly3', 'portland', 'prgn', 'pubu', 'pubugn',\n",
    "             'puor', 'purd', 'purp', 'purples', 'purpor', 'rainbow', 'rdbu',\n",
    "             'rdgy', 'rdpu', 'rdylbu', 'rdylgn', 'redor', 'reds', 'solar',\n",
    "             'spectral', 'speed', 'sunset', 'sunsetdark', 'teal', 'tealgrn',\n",
    "             'tealrose', 'tempo', 'temps', 'thermal', 'tropic', 'turbid',\n",
    "             'turbo', 'twilight', 'viridis', 'ylgn', 'ylgnbu', 'ylorbr',\n",
    "             'ylorrd'"
   ]
  },
  {
   "cell_type": "code",
   "execution_count": null,
   "id": "86a629e3",
   "metadata": {},
   "outputs": [],
   "source": []
  }
 ],
 "metadata": {
  "kernelspec": {
   "display_name": "Python 3 (ipykernel)",
   "language": "python",
   "name": "python3"
  },
  "language_info": {
   "codemirror_mode": {
    "name": "ipython",
    "version": 3
   },
   "file_extension": ".py",
   "mimetype": "text/x-python",
   "name": "python",
   "nbconvert_exporter": "python",
   "pygments_lexer": "ipython3",
   "version": "3.8.3"
  }
 },
 "nbformat": 4,
 "nbformat_minor": 5
}
